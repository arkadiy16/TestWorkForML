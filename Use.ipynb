{
  "nbformat": 4,
  "nbformat_minor": 0,
  "metadata": {
    "colab": {
      "provenance": []
    },
    "kernelspec": {
      "name": "python3",
      "display_name": "Python 3"
    },
    "language_info": {
      "name": "python"
    }
  },
  "cells": [
    {
      "cell_type": "code",
      "execution_count": 1,
      "metadata": {
        "id": "ZtxGDxyEz91i"
      },
      "outputs": [],
      "source": [
        "import pickle"
      ]
    },
    {
      "cell_type": "code",
      "source": [
        "# Pandas and numpy for data manipulation\n",
        "import pandas as pd\n",
        "import numpy as np\n",
        "\n",
        "# No warnings about setting value on copy of slice\n",
        "pd.options.mode.chained_assignment = None\n",
        "pd.set_option('display.max_columns', 60)\n",
        "\n",
        "# Imputing missing values\n",
        "from sklearn.preprocessing import MinMaxScaler\n",
        "from sklearn.impute import SimpleImputer\n",
        "\n",
        "# Machine Learning Models\n",
        "from sklearn.linear_model import LinearRegression\n",
        "from sklearn.ensemble import RandomForestRegressor\n",
        "\n",
        "from sklearn import tree\n"
      ],
      "metadata": {
        "id": "v8tBqEer0jxr"
      },
      "execution_count": 2,
      "outputs": []
    },
    {
      "cell_type": "markdown",
      "source": [
        "Загружаем финальную модель, объект SimpleImpter, данные признаков."
      ],
      "metadata": {
        "id": "lv2gC_kBlHRO"
      }
    },
    {
      "cell_type": "code",
      "source": [
        "# load pickle files\n",
        "\n",
        "model_pkl_file = \"pkl/model.pkl\"\n",
        "imputer_pkl_file = \"pkl/imputer.pkl\"\n",
        "features_pkl_file = \"pkl/features.pkl\"\n",
        "\n",
        "with open(model_pkl_file, 'rb') as file:\n",
        "    model = pickle.load(file)\n",
        "\n",
        "with open(imputer_pkl_file, 'rb') as file:\n",
        "    imputer = pickle.load(file)\n",
        "\n",
        "with open(features_pkl_file, 'rb') as file:\n",
        "    features_names = pickle.load(file)"
      ],
      "metadata": {
        "id": "RrMmEy-B0yy-"
      },
      "execution_count": 3,
      "outputs": []
    },
    {
      "cell_type": "markdown",
      "source": [
        "Загружаем данные квартир без евроремонта, для расчета цены если бы был евроремонт."
      ],
      "metadata": {
        "id": "x5h8M2p2lXBI"
      }
    },
    {
      "cell_type": "code",
      "source": [
        "data = pd.read_excel('/content/drive/MyDrive/Colab Notebooks/data/euro_renovation.xlsx')\n",
        "\n",
        "# Replace all occurrences of Not Available with numpy not a number\n",
        "data_flat = data.replace({'': np.nan, 'None': np.nan})"
      ],
      "metadata": {
        "id": "O51RvWqc0J8x"
      },
      "execution_count": 4,
      "outputs": []
    },
    {
      "cell_type": "code",
      "source": [
        "for col in list(data_flat.columns):\n",
        "    # Select columns that should be numeric\n",
        "    if ('price' in col or 'area' in col or 'height' in col or 'owner_count' in col or 'lat' in col or 'lon' in col):\n",
        "        # Convert the data type to float\n",
        "        data_flat[col] = data_flat[col].replace(regex={',': '.'}).astype(float)\n",
        "    elif 'rooms' == col:\n",
        "        # If no data about amount of rooms set to 1.\n",
        "        data_flat[col] = data_flat[col].replace(regex={np.nan: 1}).astype(int)\n",
        "    elif 'build_year' == col:\n",
        "        # If no data about year of building set to mean year.\n",
        "        data_flat[col] = data_flat[col].fillna(np.round(data_flat[col].mean()))\n",
        "        data_flat[col] = data_flat[col].astype(int)\n",
        "    elif 'all_data.house.has_garbage_disposer' == col:\n",
        "        # If no data about garbage disposer set to False.\n",
        "        data_flat[col] = data_flat[col].replace(regex={np.nan: False})\n",
        "    elif 'has_gas' == col:\n",
        "        # If no data about gas set to False.\n",
        "        data_flat[col] = data_flat[col].replace(regex={np.nan: False})"
      ],
      "metadata": {
        "id": "_dPe_RVB0MoQ"
      },
      "execution_count": 5,
      "outputs": []
    },
    {
      "cell_type": "markdown",
      "source": [
        "Заменяем признак тип ремонта, на евроремонт у всех квартир. И создаем данные цены квартиры по цене квадрата и площади."
      ],
      "metadata": {
        "id": "YX8ULH8Pl2pf"
      }
    },
    {
      "cell_type": "code",
      "source": [
        "data_flat = data_flat.assign(renovation='Евроремонт')\n",
        "price = data_flat.apply(lambda row: row.price_sq * row.area, axis=1)"
      ],
      "metadata": {
        "id": "nMTDoCOg0N3J"
      },
      "execution_count": 6,
      "outputs": []
    },
    {
      "cell_type": "code",
      "source": [
        "# Function to calculate missing values by column\n",
        "def missing_values_table(df):\n",
        "        # Total missing values\n",
        "        mis_val = df.isnull().sum()\n",
        "\n",
        "        # Percentage of missing values\n",
        "        mis_val_percent = 100 * mis_val / len(df)\n",
        "\n",
        "        # Make a table with the results\n",
        "        mis_val_table = pd.concat([mis_val, mis_val_percent], axis=1)\n",
        "\n",
        "        # Rename the columns\n",
        "        mis_val_table_ren_columns = mis_val_table.rename(\n",
        "        columns = {0 : 'Missing Values', 1 : '% of Total Values'})\n",
        "\n",
        "        # Sort the table by percentage of missing descending\n",
        "        mis_val_table_ren_columns = mis_val_table_ren_columns[\n",
        "            mis_val_table_ren_columns.iloc[:,1] != 0].sort_values(\n",
        "        '% of Total Values', ascending=False).round(1)\n",
        "\n",
        "        # Print some summary information\n",
        "        print (\"Your selected dataframe has \" + str(df.shape[1]) + \" columns.\\n\"\n",
        "            \"There are \" + str(mis_val_table_ren_columns.shape[0]) +\n",
        "              \" columns that have missing values.\")\n",
        "\n",
        "        # Return the dataframe with missing information\n",
        "        return mis_val_table_ren_columns\n",
        "\n",
        "# Get the columns with > 50% missing\n",
        "missing_df = missing_values_table(data_flat)\n",
        "missing_columns = list(missing_df[missing_df['% of Total Values'] > 50].index)\n",
        "print('We will remove %d columns.' % len(missing_columns))\n",
        "# Drop the columns\n",
        "data_flat = data_flat.drop(columns = list(missing_columns))"
      ],
      "metadata": {
        "colab": {
          "base_uri": "https://localhost:8080/"
        },
        "id": "juGwmlbt0O9B",
        "outputId": "29a0e068-00e2-49b4-ede3-c3652c04426c"
      },
      "execution_count": 7,
      "outputs": [
        {
          "output_type": "stream",
          "name": "stdout",
          "text": [
            "Your selected dataframe has 61 columns.\n",
            "There are 38 columns that have missing values.\n",
            "We will remove 30 columns.\n"
          ]
        }
      ]
    },
    {
      "cell_type": "code",
      "source": [
        "# Change build_year to 2023 of apartment with build_year=23\n",
        "data_flat['build_year'] = data_flat['build_year'].replace(regex={23: 2023})"
      ],
      "metadata": {
        "id": "J3vjH6TZ0Ql5"
      },
      "execution_count": 8,
      "outputs": []
    },
    {
      "cell_type": "code",
      "source": [
        "# Select the numeric columns\n",
        "numeric_subset = data_flat.select_dtypes('number')\n",
        "\n",
        "# Create columns with log of numeric columns\n",
        "for col in numeric_subset.columns:\n",
        "    # Skip the Energy Star Score column\n",
        "    if col == 'price':\n",
        "        next\n",
        "    else:\n",
        "        numeric_subset['log_' + col] = np.log(numeric_subset[col])\n",
        "\n",
        "# Select the categorical columns\n",
        "categorical_subset = data_flat[['city', 'house_wall_type', 'renovation', 'is_apartment', 'has_gas', 'sale_type',]]\n",
        "\n",
        "# One hot encode\n",
        "categorical_subset = pd.get_dummies(categorical_subset)\n",
        "\n",
        "# Join the two dataframes using concat\n",
        "# Make sure to use axis = 1 to perform a column bind\n",
        "features = pd.concat([numeric_subset, categorical_subset], axis = 1)\n"
      ],
      "metadata": {
        "id": "QgbdyZgt0R3Y",
        "colab": {
          "base_uri": "https://localhost:8080/"
        },
        "outputId": "bfacc854-3fb3-4909-ecec-7b0269349ec7"
      },
      "execution_count": 20,
      "outputs": [
        {
          "output_type": "stream",
          "name": "stderr",
          "text": [
            "/usr/local/lib/python3.10/dist-packages/pandas/core/arraylike.py:402: RuntimeWarning: divide by zero encountered in log\n",
            "  result = getattr(ufunc, method)(*inputs, **kwargs)\n",
            "/usr/local/lib/python3.10/dist-packages/pandas/core/arraylike.py:402: RuntimeWarning: divide by zero encountered in log\n",
            "  result = getattr(ufunc, method)(*inputs, **kwargs)\n",
            "/usr/local/lib/python3.10/dist-packages/pandas/core/arraylike.py:402: RuntimeWarning: divide by zero encountered in log\n",
            "  result = getattr(ufunc, method)(*inputs, **kwargs)\n",
            "/usr/local/lib/python3.10/dist-packages/pandas/core/arraylike.py:402: RuntimeWarning: divide by zero encountered in log\n",
            "  result = getattr(ufunc, method)(*inputs, **kwargs)\n",
            "/usr/local/lib/python3.10/dist-packages/pandas/core/arraylike.py:402: RuntimeWarning: divide by zero encountered in log\n",
            "  result = getattr(ufunc, method)(*inputs, **kwargs)\n",
            "/usr/local/lib/python3.10/dist-packages/pandas/core/arraylike.py:402: RuntimeWarning: divide by zero encountered in log\n",
            "  result = getattr(ufunc, method)(*inputs, **kwargs)\n",
            "/usr/local/lib/python3.10/dist-packages/pandas/core/arraylike.py:402: RuntimeWarning: divide by zero encountered in log\n",
            "  result = getattr(ufunc, method)(*inputs, **kwargs)\n"
          ]
        }
      ]
    },
    {
      "cell_type": "code",
      "source": [
        "features.info()"
      ],
      "metadata": {
        "id": "Af-orxP_3jsY",
        "colab": {
          "base_uri": "https://localhost:8080/"
        },
        "outputId": "86d5aa27-35ce-4c73-8b6b-ff6cdc27683c"
      },
      "execution_count": 11,
      "outputs": [
        {
          "output_type": "stream",
          "name": "stdout",
          "text": [
            "<class 'pandas.core.frame.DataFrame'>\n",
            "RangeIndex: 1320 entries, 0 to 1319\n",
            "Data columns (total 60 columns):\n",
            " #   Column                                Non-Null Count  Dtype  \n",
            "---  ------                                --------------  -----  \n",
            " 0   id                                    1320 non-null   int64  \n",
            " 1   offer_views                           1320 non-null   int64  \n",
            " 2   lat                                   1320 non-null   float64\n",
            " 3   lon                                   1320 non-null   float64\n",
            " 4   price_sq                              1320 non-null   float64\n",
            " 5   area                                  1320 non-null   float64\n",
            " 6   floor                                 1320 non-null   int64  \n",
            " 7   kitchen_area                          1320 non-null   float64\n",
            " 8   balconies                             1320 non-null   int64  \n",
            " 9   rooms                                 1320 non-null   int64  \n",
            " 10  house_floors                          1320 non-null   int64  \n",
            " 11  lifts                                 1320 non-null   int64  \n",
            " 12  freight_lifts                         1320 non-null   int64  \n",
            " 13  time_on_foot_to_subway                736 non-null    float64\n",
            " 14  build_year                            1320 non-null   int64  \n",
            " 15  duplicates_count                      1320 non-null   int64  \n",
            " 16  all_data.house.ceiling_height         669 non-null    float64\n",
            " 17  all_data.object_info.living_area      1082 non-null   float64\n",
            " 18  log_id                                1320 non-null   float64\n",
            " 19  log_offer_views                       1320 non-null   float64\n",
            " 20  log_lat                               1320 non-null   float64\n",
            " 21  log_lon                               1320 non-null   float64\n",
            " 22  log_price_sq                          1320 non-null   float64\n",
            " 23  log_area                              1320 non-null   float64\n",
            " 24  log_floor                             1320 non-null   float64\n",
            " 25  log_kitchen_area                      1320 non-null   float64\n",
            " 26  log_balconies                         1320 non-null   float64\n",
            " 27  log_rooms                             1320 non-null   float64\n",
            " 28  log_house_floors                      1320 non-null   float64\n",
            " 29  log_lifts                             1320 non-null   float64\n",
            " 30  log_freight_lifts                     1320 non-null   float64\n",
            " 31  log_time_on_foot_to_subway            736 non-null    float64\n",
            " 32  log_build_year                        1320 non-null   float64\n",
            " 33  log_duplicates_count                  1320 non-null   float64\n",
            " 34  log_all_data.house.ceiling_height     669 non-null    float64\n",
            " 35  log_all_data.object_info.living_area  1082 non-null   float64\n",
            " 36  city_Казань                           1320 non-null   uint8  \n",
            " 37  city_Москва                           1320 non-null   uint8  \n",
            " 38  city_Новосибирск                      1320 non-null   uint8  \n",
            " 39  city_Санкт-Петербург                  1320 non-null   uint8  \n",
            " 40  city_поселение Сосенское              1320 non-null   uint8  \n",
            " 41  house_wall_type_Блочный               1320 non-null   uint8  \n",
            " 42  house_wall_type_Железобетон           1320 non-null   uint8  \n",
            " 43  house_wall_type_Иные                  1320 non-null   uint8  \n",
            " 44  house_wall_type_Кирпично-монолитный   1320 non-null   uint8  \n",
            " 45  house_wall_type_Кирпичный             1320 non-null   uint8  \n",
            " 46  house_wall_type_Монолитно-кирпичный   1320 non-null   uint8  \n",
            " 47  house_wall_type_Монолитный            1320 non-null   uint8  \n",
            " 48  house_wall_type_Панельный             1320 non-null   uint8  \n",
            " 49  house_wall_type_Смешанные             1320 non-null   uint8  \n",
            " 50  renovation_Евроремонт                 1320 non-null   uint8  \n",
            " 51  is_apartment_False                    1320 non-null   uint8  \n",
            " 52  is_apartment_True                     1320 non-null   uint8  \n",
            " 53  has_gas_False                         1320 non-null   uint8  \n",
            " 54  has_gas_False                         1320 non-null   uint8  \n",
            " 55  has_gas_True                          1320 non-null   uint8  \n",
            " 56  sale_type_Альтернатива                1320 non-null   uint8  \n",
            " 57  sale_type_Переуступка                 1320 non-null   uint8  \n",
            " 58  sale_type_Продажа от застройщика      1320 non-null   uint8  \n",
            " 59  sale_type_Свободная продажа           1320 non-null   uint8  \n",
            "dtypes: float64(26), int64(10), uint8(24)\n",
            "memory usage: 402.3 KB\n"
          ]
        }
      ]
    },
    {
      "cell_type": "markdown",
      "source": [
        "Для того, чтобы модель работала нормально, количество и порядок признаков должен соответствовать параметрам признаков тренировочных данных."
      ],
      "metadata": {
        "id": "ottzRfcKm8Iv"
      }
    },
    {
      "cell_type": "code",
      "source": [
        "features.drop(columns=features.columns[features.columns.duplicated()], inplace=True)\n",
        "\n",
        "# Drop columns if no match with training data columns.\n",
        "for col in features.columns:\n",
        "    if col not in features_names.feature.values:\n",
        "        features = features.drop(columns = [col,])\n",
        "\n",
        "# Append columns if no match with training data columns.\n",
        "for col in features_names.feature:\n",
        "    if col not in features.columns:\n",
        "        features[col] = 0\n",
        "\n",
        "features = features[features_names.feature.values]\n",
        "\n",
        "for index, dtype in enumerate(features_names.dtype.values):\n",
        "    col = features.columns[index]\n",
        "    features[col] = features[col].astype(dtype)"
      ],
      "metadata": {
        "id": "ZE2JuhlC_Wcm"
      },
      "execution_count": 21,
      "outputs": []
    },
    {
      "cell_type": "code",
      "source": [
        "# Transform data\n",
        "features = features.replace({np.inf: np.nan, -np.inf: np.nan})\n",
        "features = imputer.transform(features)"
      ],
      "metadata": {
        "id": "hsTSkIHb0V59"
      },
      "execution_count": 22,
      "outputs": []
    },
    {
      "cell_type": "markdown",
      "source": [
        "Оставляем наиболее важные признаки."
      ],
      "metadata": {
        "id": "GhMNvSminaTk"
      }
    },
    {
      "cell_type": "code",
      "source": [
        "indices = [5, 4, 3, 2, 11, 6, 0, 13, 10, 1]\n",
        "features_reduced = features[:, indices]"
      ],
      "metadata": {
        "id": "FSoAAZyd0YEr"
      },
      "execution_count": 24,
      "outputs": []
    },
    {
      "cell_type": "markdown",
      "source": [
        "Создаем данные прогнозирования."
      ],
      "metadata": {
        "id": "5IsRDzjJng7b"
      }
    },
    {
      "cell_type": "code",
      "source": [
        "data_flat_pred = model.predict(features_reduced)"
      ],
      "metadata": {
        "id": "zwdao2Ip0ZUV"
      },
      "execution_count": 25,
      "outputs": []
    },
    {
      "cell_type": "markdown",
      "source": [
        "Добавляем в датафрейм столбцы цен рассчитаных по цене квадрата и площади квартиры и цен спрогназированные моделью."
      ],
      "metadata": {
        "id": "jMMQBox8nntL"
      }
    },
    {
      "cell_type": "code",
      "source": [
        "data['price'] = price\n",
        "data['price_pred'] = data_flat_pred"
      ],
      "metadata": {
        "id": "mGy3OAhQ0cca"
      },
      "execution_count": 27,
      "outputs": []
    },
    {
      "cell_type": "markdown",
      "source": [
        "Сохраняем датафрейм."
      ],
      "metadata": {
        "id": "ih-pfIiDn-zn"
      }
    },
    {
      "cell_type": "code",
      "source": [
        "data.to_excel('data/flat_pred.xlsx')"
      ],
      "metadata": {
        "id": "Mf4bldkC0evY"
      },
      "execution_count": 28,
      "outputs": []
    }
  ]
}