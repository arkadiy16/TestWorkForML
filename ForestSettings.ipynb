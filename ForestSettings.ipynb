{
  "nbformat": 4,
  "nbformat_minor": 0,
  "metadata": {
    "colab": {
      "provenance": []
    },
    "kernelspec": {
      "name": "python3",
      "display_name": "Python 3"
    },
    "language_info": {
      "name": "python"
    }
  },
  "cells": [
    {
      "cell_type": "code",
      "execution_count": 1,
      "metadata": {
        "id": "hfbROKYqr0Vr"
      },
      "outputs": [],
      "source": [
        "# Pandas and numpy for data manipulation\n",
        "import pandas as pd\n",
        "import numpy as np\n",
        "\n",
        "# No warnings about setting value on copy of slice\n",
        "pd.options.mode.chained_assignment = None\n",
        "pd.set_option('display.max_columns', 60)\n",
        "\n",
        "# Matplotlib for visualization\n",
        "import matplotlib.pyplot as plt\n",
        "%matplotlib inline\n",
        "\n",
        "# Set default font size\n",
        "plt.rcParams['font.size'] = 24\n",
        "\n",
        "from IPython.core.pylabtools import figsize\n",
        "\n",
        "# Seaborn for visualization\n",
        "import seaborn as sns\n",
        "sns.set(font_scale = 2)\n",
        "\n",
        "# Imputing missing values and scaling values\n",
        "from sklearn.preprocessing import MinMaxScaler\n",
        "from sklearn.impute import SimpleImputer\n",
        "\n",
        "\n",
        "# Machine Learning Models\n",
        "from sklearn.linear_model import LinearRegression\n",
        "from sklearn.ensemble import RandomForestRegressor, GradientBoostingRegressor\n",
        "from sklearn.svm import SVR\n",
        "from sklearn.neighbors import KNeighborsRegressor\n",
        "\n",
        "# Hyperparameter tuning\n",
        "from sklearn.model_selection import RandomizedSearchCV, GridSearchCV"
      ]
    },
    {
      "cell_type": "code",
      "source": [
        "# Read in data into dataframes\n",
        "train_features = pd.read_csv('data/train_features.csv')\n",
        "test_features = pd.read_csv('data/test_featuers.csv')\n",
        "train_labels = pd.read_csv('data/train_labels.csv')\n",
        "test_labels = pd.read_csv('data/test_labels.csv')\n",
        "\n",
        "train_features = train_features.drop(train_features.columns[[0]], axis=1)\n",
        "test_features = test_features.drop(test_features.columns[[0]], axis=1)\n",
        "train_labels = train_labels.drop(train_labels.columns[[0]], axis=1)\n",
        "test_labels = test_labels.drop(test_labels.columns[[0]], axis=1)\n",
        "\n",
        "# Display sizes of data\n",
        "print('Training Feature Size: ', train_features.shape)\n",
        "print('Testing Feature Size:  ', test_features.shape)\n",
        "print('Training Labels Size:  ', train_labels.shape)\n",
        "print('Testing Labels Size:   ', test_labels.shape)"
      ],
      "metadata": {
        "id": "pHdgARxUr9zL",
        "colab": {
          "base_uri": "https://localhost:8080/"
        },
        "outputId": "962e1a49-87cf-4aef-d0ee-6e806c5180b3"
      },
      "execution_count": 2,
      "outputs": [
        {
          "output_type": "stream",
          "name": "stdout",
          "text": [
            "Training Feature Size:  (5607, 64)\n",
            "Testing Feature Size:   (2403, 64)\n",
            "Training Labels Size:   (5607, 1)\n",
            "Testing Labels Size:    (2403, 1)\n"
          ]
        }
      ]
    },
    {
      "cell_type": "markdown",
      "source": [
        "Заполняем отсутствующие значения\n",
        "Хотя при очистке данных мы отбросили колонки, в которых не хватает больше половины значений, у нас ещё отсутствует немало значений, поэтому нам нужно их заполнить.\n",
        "\n",
        "В нижеприведённом коде мы создадим Scikit-Learn-объект SimpleImputer с медианной стратегией. Затем обучим его на обучающих данных , и применим для заполнения отсутствующих значений в обучающем и тестовом наборах. То есть записи, которых не хватает в тестовых данных, будут заполняться соответствующим медианным значением из обучающих данных.\n"
      ],
      "metadata": {
        "id": "yFjPBfA23Evm"
      }
    },
    {
      "cell_type": "code",
      "source": [
        "# Create an imputer object with a median filling strategy\n",
        "imputer = SimpleImputer(strategy='median')\n",
        "\n",
        "# Train on the training features\n",
        "imputer.fit(train_features)\n",
        "\n",
        "# Transform both training data and testing data\n",
        "X = imputer.transform(train_features)\n",
        "X_test = imputer.transform(test_features)"
      ],
      "metadata": {
        "id": "mautrpAGr_FJ"
      },
      "execution_count": 3,
      "outputs": []
    },
    {
      "cell_type": "code",
      "source": [
        "print('Missing values in training features: ', np.sum(np.isnan(X)))\n",
        "print('Missing values in testing features:  ', np.sum(np.isnan(X_test)))"
      ],
      "metadata": {
        "colab": {
          "base_uri": "https://localhost:8080/"
        },
        "id": "9cNF3HhP3e9Y",
        "outputId": "f8f82c4a-c916-47f6-e9ee-b7fff1329b90"
      },
      "execution_count": 4,
      "outputs": [
        {
          "output_type": "stream",
          "name": "stdout",
          "text": [
            "Missing values in training features:  0\n",
            "Missing values in testing features:   0\n"
          ]
        }
      ]
    },
    {
      "cell_type": "markdown",
      "source": [
        "Выполним масштабирование, приводя каждое значение к диапазону от 0 до 1. Берём все значения признака, выбираем минимальное и делим его на разницу между максимальным и минимальным (диапазон)."
      ],
      "metadata": {
        "id": "Jac8b6EJ3iPk"
      }
    },
    {
      "cell_type": "code",
      "source": [
        "# Create the scaler object with a range of 0-1\n",
        "scaler = MinMaxScaler(feature_range=(0, 1))\n",
        "\n",
        "# Fit on the training data\n",
        "scaler.fit(X)\n",
        "\n",
        "# Transform both the training and testing data\n",
        "X = scaler.transform(X)\n",
        "X_test = scaler.transform(X_test)"
      ],
      "metadata": {
        "id": "WwPdJRk3sAeu"
      },
      "execution_count": 5,
      "outputs": []
    },
    {
      "cell_type": "code",
      "source": [
        "# Convert y to one-dimensional array (vector)\n",
        "y = np.array(train_labels).reshape((-1, ))\n",
        "y_test = np.array(test_labels).reshape((-1, ))"
      ],
      "metadata": {
        "id": "NE8zlcEmsBkG"
      },
      "execution_count": 6,
      "outputs": []
    },
    {
      "cell_type": "markdown",
      "source": [
        "Для начала сравним несколько модулей машинного обучения, и выберем наиболе подходящий.\n",
        "Для сравнения используем функцию нахождения средней абсолютной ошибки (чем меньше значение, тем лучше)."
      ],
      "metadata": {
        "id": "-2B-uMeW3_ss"
      }
    },
    {
      "cell_type": "code",
      "source": [
        "# Function to calculate mean absolute error\n",
        "def mae(y_true, y_pred):\n",
        "    return np.mean(abs(y_true - y_pred))\n",
        "\n",
        "# Takes in a model, trains the model, and evaluates the model on the test set\n",
        "def fit_and_evaluate(model):\n",
        "\n",
        "    # Train the model\n",
        "    model.fit(X, y)\n",
        "\n",
        "    # Make predictions and evalute\n",
        "    model_pred = model.predict(X_test)\n",
        "    model_mae = mae(y_test, model_pred)\n",
        "\n",
        "    # Return the performance metric\n",
        "    return model_mae"
      ],
      "metadata": {
        "id": "cri0DH06sCpk"
      },
      "execution_count": 7,
      "outputs": []
    },
    {
      "cell_type": "code",
      "source": [
        "lr = LinearRegression()\n",
        "lr_mae = fit_and_evaluate(lr)\n",
        "\n",
        "print('Linear Regression Performance on the test set: MAE = %0.4f' % lr_mae)"
      ],
      "metadata": {
        "colab": {
          "base_uri": "https://localhost:8080/"
        },
        "id": "5gZlnnSrsD21",
        "outputId": "ab91fe2e-4e58-4be3-96f3-cffa6eab8b0d"
      },
      "execution_count": 8,
      "outputs": [
        {
          "output_type": "stream",
          "name": "stdout",
          "text": [
            "Linear Regression Performance on the test set: MAE = 19653885216269488.0000\n"
          ]
        }
      ]
    },
    {
      "cell_type": "code",
      "source": [
        "svm = SVR(C = 1000, gamma = 0.1)\n",
        "svm_mae = fit_and_evaluate(svm)\n",
        "\n",
        "print('Support Vector Machine Regression Performance on the test set: MAE = %0.4f' % svm_mae)"
      ],
      "metadata": {
        "colab": {
          "base_uri": "https://localhost:8080/"
        },
        "id": "x2XRd6ZcsFPS",
        "outputId": "44d54b46-280b-4d02-a712-ca95005e2658"
      },
      "execution_count": 9,
      "outputs": [
        {
          "output_type": "stream",
          "name": "stdout",
          "text": [
            "Support Vector Machine Regression Performance on the test set: MAE = 1914313.1236\n"
          ]
        }
      ]
    },
    {
      "cell_type": "code",
      "source": [
        "random_forest = RandomForestRegressor(random_state=60)\n",
        "random_forest_mae = fit_and_evaluate(random_forest)\n",
        "\n",
        "print('Random Forest Regression Performance on the test set: MAE = %0.4f' % random_forest_mae)"
      ],
      "metadata": {
        "colab": {
          "base_uri": "https://localhost:8080/"
        },
        "id": "o0kFjGDEsGkZ",
        "outputId": "4fe946ed-ecbb-45ee-97c9-07b53d1bf925"
      },
      "execution_count": 10,
      "outputs": [
        {
          "output_type": "stream",
          "name": "stdout",
          "text": [
            "Random Forest Regression Performance on the test set: MAE = 67345.8981\n"
          ]
        }
      ]
    },
    {
      "cell_type": "code",
      "source": [
        "gradient_boosted = GradientBoostingRegressor(random_state=60)\n",
        "gradient_boosted_mae = fit_and_evaluate(gradient_boosted)\n",
        "\n",
        "print('Gradient Boosted Regression Performance on the test set: MAE = %0.4f' % gradient_boosted_mae)"
      ],
      "metadata": {
        "colab": {
          "base_uri": "https://localhost:8080/"
        },
        "id": "CQ9gLCl2sH3V",
        "outputId": "255628ef-e318-4137-dd96-a151890eeefa"
      },
      "execution_count": 11,
      "outputs": [
        {
          "output_type": "stream",
          "name": "stdout",
          "text": [
            "Gradient Boosted Regression Performance on the test set: MAE = 152390.3361\n"
          ]
        }
      ]
    },
    {
      "cell_type": "code",
      "source": [
        "knn = KNeighborsRegressor(n_neighbors=10)\n",
        "knn_mae = fit_and_evaluate(knn)\n",
        "\n",
        "print('K-Nearest Neighbors Regression Performance on the test set: MAE = %0.4f' % knn_mae)"
      ],
      "metadata": {
        "colab": {
          "base_uri": "https://localhost:8080/"
        },
        "id": "LKxy0KvksJCR",
        "outputId": "de9d5b87-926a-4e42-f84f-9f6d1380e9bc"
      },
      "execution_count": 12,
      "outputs": [
        {
          "output_type": "stream",
          "name": "stdout",
          "text": [
            "K-Nearest Neighbors Regression Performance on the test set: MAE = 1272521.8251\n"
          ]
        }
      ]
    },
    {
      "cell_type": "markdown",
      "source": [
        "Предварительно уже видно, что лучше всех справилась модель случайный лес. Дальше будем использовать её.\n",
        "\n",
        "Можем представить зполученные значений в графике:"
      ],
      "metadata": {
        "id": "fLLHpOJm40vU"
      }
    },
    {
      "cell_type": "code",
      "source": [
        "plt.style.use('fivethirtyeight')\n",
        "figsize(8, 6)\n",
        "\n",
        "# Dataframe to hold the results\n",
        "model_comparison = pd.DataFrame({'model': ['Support Vector Machine',\n",
        "                                           'Random Forest', 'Gradient Boosted',\n",
        "                                            'K-Nearest Neighbors'],\n",
        "                                 'mae': [svm_mae, random_forest_mae,\n",
        "                                         gradient_boosted_mae, knn_mae]})\n",
        "\n",
        "# Horizontal bar chart of test mae\n",
        "model_comparison.sort_values('mae', ascending = False).plot(x = 'model', y = 'mae', kind = 'barh',\n",
        "                                                           color = 'red', edgecolor = 'black')\n",
        "\n",
        "# Plot formatting\n",
        "plt.ylabel(''); plt.yticks(size = 14); plt.xlabel('Mean Absolute Error'); plt.xticks(size = 14)\n",
        "plt.title('Model Comparison on Test MAE', size = 20);"
      ],
      "metadata": {
        "id": "vvcnI8DtsKZP",
        "colab": {
          "base_uri": "https://localhost:8080/",
          "height": 610
        },
        "outputId": "e003f54e-91e1-4c0c-8960-26eb8cdeff84"
      },
      "execution_count": 13,
      "outputs": [
        {
          "output_type": "display_data",
          "data": {
            "text/plain": [
              "<Figure size 800x600 with 1 Axes>"
            ],
            "image/png": "[encoded data removed]"
          },
          "metadata": {}
        }
      ]
    },
    {
      "cell_type": "markdown",
      "source": [
        "Теперь нам нужно выбрать гиперпараметры для модели.\n",
        "Будем использовать метод случайного поиска с перекрёстной проверкой.\n",
        "\n"
      ],
      "metadata": {
        "id": "LAiP0RgZ5tXq"
      }
    },
    {
      "cell_type": "markdown",
      "source": [
        "В этом коде мы создаём сетку из гиперпараметров, затем создаём объект RandomizedSearchCV и ищем с помощью 4-блочной перекрёстной проверки по 25 разным комбинациям гиперпараметров:"
      ],
      "metadata": {
        "id": "yb0RFV0u6tRg"
      }
    },
    {
      "cell_type": "code",
      "source": [
        "# Criterion function to be optimized\n",
        "criterion = ['squared_error', 'absolute_error', 'friedman_mse', 'poisson']\n",
        "\n",
        "# Number of trees used in the boosting process\n",
        "n_estimators = [100, 500, 900, 1100, 1500]\n",
        "\n",
        "# Maximum depth of each tree\n",
        "max_depth = [2, 3, 5, 10, 15]\n",
        "\n",
        "# Minimum number of samples per leaf\n",
        "min_samples_leaf = [1, 2, 4, 6, 8]\n",
        "\n",
        "# Minimum number of samples to split a node\n",
        "min_samples_split = [2, 4, 6, 10]\n",
        "\n",
        "# Maximum number of features to consider for making splits\n",
        "max_features = ['sqrt', 'log2', 1.0]\n",
        "\n",
        "# Define the grid of hyperparameters to search\n",
        "hyperparameter_grid = {'criterion': criterion,\n",
        "                       'n_estimators': n_estimators,\n",
        "                       'max_depth': max_depth,\n",
        "                       'min_samples_leaf': min_samples_leaf,\n",
        "                       'min_samples_split': min_samples_split,\n",
        "                       'max_features': max_features}"
      ],
      "metadata": {
        "id": "BjWKGxv8sMEL"
      },
      "execution_count": 14,
      "outputs": []
    },
    {
      "cell_type": "code",
      "source": [
        "# Create the model to use for hyperparameter tuning\n",
        "model = RandomForestRegressor(random_state = 42)\n",
        "\n",
        "# Set up the random search with 4-fold cross validation\n",
        "random_cv = RandomizedSearchCV(estimator=model,\n",
        "                               param_distributions=hyperparameter_grid,\n",
        "                               cv=4, n_iter=25,\n",
        "                               scoring = 'neg_mean_absolute_error',\n",
        "                               n_jobs = -1, verbose = 1,\n",
        "                               return_train_score = True,\n",
        "                               random_state=42)"
      ],
      "metadata": {
        "id": "foMaA_ttsNcu"
      },
      "execution_count": 15,
      "outputs": []
    },
    {
      "cell_type": "code",
      "source": [
        "# Fit on the training data\n",
        "random_cv.fit(X, y)"
      ],
      "metadata": {
        "id": "8bLo9omysOr1",
        "colab": {
          "base_uri": "https://localhost:8080/",
          "height": 336
        },
        "outputId": "b900fb21-f288-4d44-ed59-e904ad4ad224"
      },
      "execution_count": 16,
      "outputs": [
        {
          "output_type": "stream",
          "name": "stdout",
          "text": [
            "Fitting 4 folds for each of 25 candidates, totalling 100 fits\n"
          ]
        },
        {
          "output_type": "execute_result",
          "data": {
            "text/plain": [
              "RandomizedSearchCV(cv=4, estimator=RandomForestRegressor(random_state=42),\n",
              "                   n_iter=25, n_jobs=-1,\n",
              "                   param_distributions={'criterion': ['squared_error',\n",
              "                                                      'absolute_error',\n",
              "                                                      'friedman_mse',\n",
              "                                                      'poisson'],\n",
              "                                        'max_depth': [2, 3, 5, 10, 15],\n",
              "                                        'max_features': ['sqrt', 'log2', 1.0],\n",
              "                                        'min_samples_leaf': [1, 2, 4, 6, 8],\n",
              "                                        'min_samples_split': [2, 4, 6, 10],\n",
              "                                        'n_estimators': [100, 500, 900, 1100,\n",
              "                                                         1500]},\n",
              "                   random_state=42, return_train_score=True,\n",
              "                   scoring='neg_mean_absolute_error', verbose=1)"
            ],
            "text/html": [
              "<style>#sk-container-id-1 {color: black;background-color: white;}#sk-container-id-1 pre{padding: 0;}#sk-container-id-1 div.sk-toggleable {background-color: white;}#sk-container-id-1 label.sk-toggleable__label {cursor: pointer;display: block;width: 100%;margin-bottom: 0;padding: 0.3em;box-sizing: border-box;text-align: center;}#sk-container-id-1 label.sk-toggleable__label-arrow:before {content: \"▸\";float: left;margin-right: 0.25em;color: #696969;}#sk-container-id-1 label.sk-toggleable__label-arrow:hover:before {color: black;}#sk-container-id-1 div.sk-estimator:hover label.sk-toggleable__label-arrow:before {color: black;}#sk-container-id-1 div.sk-toggleable__content {max-height: 0;max-width: 0;overflow: hidden;text-align: left;background-color: #f0f8ff;}#sk-container-id-1 div.sk-toggleable__content pre {margin: 0.2em;color: black;border-radius: 0.25em;background-color: #f0f8ff;}#sk-container-id-1 input.sk-toggleable__control:checked~div.sk-toggleable__content {max-height: 200px;max-width: 100%;overflow: auto;}#sk-container-id-1 input.sk-toggleable__control:checked~label.sk-toggleable__label-arrow:before {content: \"▾\";}#sk-container-id-1 div.sk-estimator input.sk-toggleable__control:checked~label.sk-toggleable__label {background-color: #d4ebff;}#sk-container-id-1 div.sk-label input.sk-toggleable__control:checked~label.sk-toggleable__label {background-color: #d4ebff;}#sk-container-id-1 input.sk-hidden--visually {border: 0;clip: rect(1px 1px 1px 1px);clip: rect(1px, 1px, 1px, 1px);height: 1px;margin: -1px;overflow: hidden;padding: 0;position: absolute;width: 1px;}#sk-container-id-1 div.sk-estimator {font-family: monospace;background-color: #f0f8ff;border: 1px dotted black;border-radius: 0.25em;box-sizing: border-box;margin-bottom: 0.5em;}#sk-container-id-1 div.sk-estimator:hover {background-color: #d4ebff;}#sk-container-id-1 div.sk-parallel-item::after {content: \"\";width: 100%;border-bottom: 1px solid gray;flex-grow: 1;}#sk-container-id-1 div.sk-label:hover label.sk-toggleable__label {background-color: #d4ebff;}#sk-container-id-1 div.sk-serial::before {content: \"\";position: absolute;border-left: 1px solid gray;box-sizing: border-box;top: 0;bottom: 0;left: 50%;z-index: 0;}#sk-container-id-1 div.sk-serial {display: flex;flex-direction: column;align-items: center;background-color: white;padding-right: 0.2em;padding-left: 0.2em;position: relative;}#sk-container-id-1 div.sk-item {position: relative;z-index: 1;}#sk-container-id-1 div.sk-parallel {display: flex;align-items: stretch;justify-content: center;background-color: white;position: relative;}#sk-container-id-1 div.sk-item::before, #sk-container-id-1 div.sk-parallel-item::before {content: \"\";position: absolute;border-left: 1px solid gray;box-sizing: border-box;top: 0;bottom: 0;left: 50%;z-index: -1;}#sk-container-id-1 div.sk-parallel-item {display: flex;flex-direction: column;z-index: 1;position: relative;background-color: white;}#sk-container-id-1 div.sk-parallel-item:first-child::after {align-self: flex-end;width: 50%;}#sk-container-id-1 div.sk-parallel-item:last-child::after {align-self: flex-start;width: 50%;}#sk-container-id-1 div.sk-parallel-item:only-child::after {width: 0;}#sk-container-id-1 div.sk-dashed-wrapped {border: 1px dashed gray;margin: 0 0.4em 0.5em 0.4em;box-sizing: border-box;padding-bottom: 0.4em;background-color: white;}#sk-container-id-1 div.sk-label label {font-family: monospace;font-weight: bold;display: inline-block;line-height: 1.2em;}#sk-container-id-1 div.sk-label-container {text-align: center;}#sk-container-id-1 div.sk-container {/* jupyter's `normalize.less` sets `[hidden] { display: none; }` but bootstrap.min.css set `[hidden] { display: none !important; }` so we also need the `!important` here to be able to override the default hidden behavior on the sphinx rendered scikit-learn.org. See: https://github.com/scikit-learn/scikit-learn/issues/21755 */display: inline-block !important;position: relative;}#sk-container-id-1 div.sk-text-repr-fallback {display: none;}</style><div id=\"sk-container-id-1\" class=\"sk-top-container\"><div class=\"sk-text-repr-fallback\"><pre>RandomizedSearchCV(cv=4, estimator=RandomForestRegressor(random_state=42),\n",
              "                   n_iter=25, n_jobs=-1,\n",
              "                   param_distributions={&#x27;criterion&#x27;: [&#x27;squared_error&#x27;,\n",
              "                                                      &#x27;absolute_error&#x27;,\n",
              "                                                      &#x27;friedman_mse&#x27;,\n",
              "                                                      &#x27;poisson&#x27;],\n",
              "                                        &#x27;max_depth&#x27;: [2, 3, 5, 10, 15],\n",
              "                                        &#x27;max_features&#x27;: [&#x27;sqrt&#x27;, &#x27;log2&#x27;, 1.0],\n",
              "                                        &#x27;min_samples_leaf&#x27;: [1, 2, 4, 6, 8],\n",
              "                                        &#x27;min_samples_split&#x27;: [2, 4, 6, 10],\n",
              "                                        &#x27;n_estimators&#x27;: [100, 500, 900, 1100,\n",
              "                                                         1500]},\n",
              "                   random_state=42, return_train_score=True,\n",
              "                   scoring=&#x27;neg_mean_absolute_error&#x27;, verbose=1)</pre><b>In a Jupyter environment, please rerun this cell to show the HTML representation or trust the notebook. <br />On GitHub, the HTML representation is unable to render, please try loading this page with nbviewer.org.</b></div><div class=\"sk-container\" hidden><div class=\"sk-item sk-dashed-wrapped\"><div class=\"sk-label-container\"><div class=\"sk-label sk-toggleable\"><input class=\"sk-toggleable__control sk-hidden--visually\" id=\"sk-estimator-id-1\" type=\"checkbox\" ><label for=\"sk-estimator-id-1\" class=\"sk-toggleable__label sk-toggleable__label-arrow\">RandomizedSearchCV</label><div class=\"sk-toggleable__content\"><pre>RandomizedSearchCV(cv=4, estimator=RandomForestRegressor(random_state=42),\n",
              "                   n_iter=25, n_jobs=-1,\n",
              "                   param_distributions={&#x27;criterion&#x27;: [&#x27;squared_error&#x27;,\n",
              "                                                      &#x27;absolute_error&#x27;,\n",
              "                                                      &#x27;friedman_mse&#x27;,\n",
              "                                                      &#x27;poisson&#x27;],\n",
              "                                        &#x27;max_depth&#x27;: [2, 3, 5, 10, 15],\n",
              "                                        &#x27;max_features&#x27;: [&#x27;sqrt&#x27;, &#x27;log2&#x27;, 1.0],\n",
              "                                        &#x27;min_samples_leaf&#x27;: [1, 2, 4, 6, 8],\n",
              "                                        &#x27;min_samples_split&#x27;: [2, 4, 6, 10],\n",
              "                                        &#x27;n_estimators&#x27;: [100, 500, 900, 1100,\n",
              "                                                         1500]},\n",
              "                   random_state=42, return_train_score=True,\n",
              "                   scoring=&#x27;neg_mean_absolute_error&#x27;, verbose=1)</pre></div></div></div><div class=\"sk-parallel\"><div class=\"sk-parallel-item\"><div class=\"sk-item\"><div class=\"sk-label-container\"><div class=\"sk-label sk-toggleable\"><input class=\"sk-toggleable__control sk-hidden--visually\" id=\"sk-estimator-id-2\" type=\"checkbox\" ><label for=\"sk-estimator-id-2\" class=\"sk-toggleable__label sk-toggleable__label-arrow\">estimator: RandomForestRegressor</label><div class=\"sk-toggleable__content\"><pre>RandomForestRegressor(random_state=42)</pre></div></div></div><div class=\"sk-serial\"><div class=\"sk-item\"><div class=\"sk-estimator sk-toggleable\"><input class=\"sk-toggleable__control sk-hidden--visually\" id=\"sk-estimator-id-3\" type=\"checkbox\" ><label for=\"sk-estimator-id-3\" class=\"sk-toggleable__label sk-toggleable__label-arrow\">RandomForestRegressor</label><div class=\"sk-toggleable__content\"><pre>RandomForestRegressor(random_state=42)</pre></div></div></div></div></div></div></div></div></div></div>"
            ]
          },
          "metadata": {},
          "execution_count": 16
        }
      ]
    },
    {
      "cell_type": "code",
      "source": [
        "# Get all of the cv results and sort by the test performance\n",
        "random_results = pd.DataFrame(random_cv.cv_results_).sort_values('mean_test_score', ascending = False)\n",
        "\n",
        "random_results.head(10)"
      ],
      "metadata": {
        "id": "9cahrRzvsPny",
        "colab": {
          "base_uri": "https://localhost:8080/",
          "height": 904
        },
        "outputId": "c4663e45-92f1-43b2-9aec-c8d0d86a3dd7"
      },
      "execution_count": 17,
      "outputs": [
        {
          "output_type": "execute_result",
          "data": {
            "text/plain": [
              "    mean_fit_time  std_fit_time  mean_score_time  std_score_time  \\\n",
              "9       33.335212      1.578695         0.212256        0.052778   \n",
              "13    2130.805060     30.520462         0.571099        0.141147   \n",
              "18      27.706727      1.566329         0.135989        0.015076   \n",
              "22      61.934767      1.263664         0.461088        0.169536   \n",
              "17     494.892492      1.482542         0.108188        0.035010   \n",
              "0        3.172326      0.592217         0.025794        0.006203   \n",
              "20      14.961005      0.809880         0.116253        0.036349   \n",
              "8       44.993672      1.532459         0.273882        0.092172   \n",
              "1        3.172289      0.745524         0.018683        0.003563   \n",
              "6       20.826303      0.184128         0.469714        0.017934   \n",
              "\n",
              "   param_n_estimators param_min_samples_split param_min_samples_leaf  \\\n",
              "9                 500                       4                      2   \n",
              "13               1500                      10                      1   \n",
              "18                500                       6                      1   \n",
              "22               1500                       2                      8   \n",
              "17                500                       6                      8   \n",
              "0                 100                       2                      6   \n",
              "20                500                       6                      1   \n",
              "8                1500                       6                      2   \n",
              "1                 100                       6                      8   \n",
              "6                1500                       6                      2   \n",
              "\n",
              "   param_max_features param_max_depth param_criterion  \\\n",
              "9                 1.0              15    friedman_mse   \n",
              "13                1.0              15  absolute_error   \n",
              "18                1.0              10         poisson   \n",
              "22                1.0              10   squared_error   \n",
              "17                1.0               5  absolute_error   \n",
              "0                 1.0               5   squared_error   \n",
              "20                1.0               5         poisson   \n",
              "8                 1.0               5         poisson   \n",
              "1                 1.0               5         poisson   \n",
              "6                sqrt              15         poisson   \n",
              "\n",
              "                                               params  split0_test_score  \\\n",
              "9   {'n_estimators': 500, 'min_samples_split': 4, ...      -80110.202049   \n",
              "13  {'n_estimators': 1500, 'min_samples_split': 10...     -100590.436260   \n",
              "18  {'n_estimators': 500, 'min_samples_split': 6, ...     -108976.076354   \n",
              "22  {'n_estimators': 1500, 'min_samples_split': 2,...     -119148.269646   \n",
              "17  {'n_estimators': 500, 'min_samples_split': 6, ...     -533554.550174   \n",
              "0   {'n_estimators': 100, 'min_samples_split': 2, ...     -553135.864053   \n",
              "20  {'n_estimators': 500, 'min_samples_split': 6, ...     -617772.745875   \n",
              "8   {'n_estimators': 1500, 'min_samples_split': 6,...     -617769.817883   \n",
              "1   {'n_estimators': 100, 'min_samples_split': 6, ...     -624604.640761   \n",
              "6   {'n_estimators': 1500, 'min_samples_split': 6,...     -745474.318168   \n",
              "\n",
              "    split1_test_score  split2_test_score  split3_test_score  mean_test_score  \\\n",
              "9       -70213.133011      -81437.933605      -73325.662325    -76271.732747   \n",
              "13      -94461.617259     -102942.860261      -95129.731064    -98281.161211   \n",
              "18     -100272.012107     -109053.904389      -97220.252180   -103880.561257   \n",
              "22     -103371.288469     -117140.792854     -104855.657353   -111129.002081   \n",
              "17     -520814.641428     -530688.555563     -490242.773792   -518825.130239   \n",
              "0      -526851.540501     -525889.375285     -508222.214942   -528524.748695   \n",
              "20     -606240.208215     -590340.681903     -548713.129659   -590766.691413   \n",
              "8      -606342.360030     -588107.226207     -551689.382226   -590977.196587   \n",
              "1      -607416.040542     -590787.309821     -546532.526190   -592335.129328   \n",
              "6      -697700.993451     -695611.821151     -697443.263190   -709057.598990   \n",
              "\n",
              "    std_test_score  rank_test_score  split0_train_score  split1_train_score  \\\n",
              "9      4658.579171                1       -33759.632090       -32955.392298   \n",
              "13     3591.121595                2       -55612.110715       -58197.856692   \n",
              "18     5246.644100                3       -68044.640994       -70450.336360   \n",
              "22     7070.842509                4       -85786.282162       -84208.536978   \n",
              "17    17165.415280                5      -483072.366206      -495279.346842   \n",
              "0     16028.448885                6      -486260.685250      -503715.568690   \n",
              "20    26160.276376                7      -563922.665060      -575736.557349   \n",
              "8     25028.493216                8      -565658.959590      -575904.788863   \n",
              "1     29021.670570                9      -568475.027518      -575505.984903   \n",
              "6     21040.625364               10      -499144.671982      -496951.353141   \n",
              "\n",
              "    split2_train_score  split3_train_score  mean_train_score  std_train_score  \n",
              "9        -33975.290597       -33657.000384     -33586.828842       382.230183  \n",
              "13       -58188.629055       -57964.933385     -57490.882462      1088.711443  \n",
              "18       -68376.662466       -64962.207313     -67958.461783      1960.184840  \n",
              "22       -84453.431669       -83280.621196     -84432.218001       895.844319  \n",
              "17      -488016.072889      -486775.767347    -488285.888321      4428.389681  \n",
              "0       -498910.568392      -502913.689312    -497950.127911      6990.042289  \n",
              "20      -561788.883159      -547715.850524    -562290.989023      9951.538158  \n",
              "8       -560083.693487      -550559.844133    -563051.821518      9176.808017  \n",
              "1       -563178.681447      -545617.372851    -563194.266680     11050.025794  \n",
              "6       -499839.868156      -500249.125786    -499046.254766      1272.302997  "
            ],
            "text/html": [
              "\n",
              "  <div id=\"df-3beb2028-2943-498e-a8ec-3eae16e6af98\" class=\"colab-df-container\">\n",
              "    <div>\n",
              "<style scoped>\n",
              "    .dataframe tbody tr th:only-of-type {\n",
              "        vertical-align: middle;\n",
              "    }\n",
              "\n",
              "    .dataframe tbody tr th {\n",
              "        vertical-align: top;\n",
              "    }\n",
              "\n",
              "    .dataframe thead th {\n",
              "        text-align: right;\n",
              "    }\n",
              "</style>\n",
              "<table border=\"1\" class=\"dataframe\">\n",
              "  <thead>\n",
              "    <tr style=\"text-align: right;\">\n",
              "      <th></th>\n",
              "      <th>mean_fit_time</th>\n",
              "      <th>std_fit_time</th>\n",
              "      <th>mean_score_time</th>\n",
              "      <th>std_score_time</th>\n",
              "      <th>param_n_estimators</th>\n",
              "      <th>param_min_samples_split</th>\n",
              "      <th>param_min_samples_leaf</th>\n",
              "      <th>param_max_features</th>\n",
              "      <th>param_max_depth</th>\n",
              "      <th>param_criterion</th>\n",
              "      <th>params</th>\n",
              "      <th>split0_test_score</th>\n",
              "      <th>split1_test_score</th>\n",
              "      <th>split2_test_score</th>\n",
              "      <th>split3_test_score</th>\n",
              "      <th>mean_test_score</th>\n",
              "      <th>std_test_score</th>\n",
              "      <th>rank_test_score</th>\n",
              "      <th>split0_train_score</th>\n",
              "      <th>split1_train_score</th>\n",
              "      <th>split2_train_score</th>\n",
              "      <th>split3_train_score</th>\n",
              "      <th>mean_train_score</th>\n",
              "      <th>std_train_score</th>\n",
              "    </tr>\n",
              "  </thead>\n",
              "  <tbody>\n",
              "    <tr>\n",
              "      <th>9</th>\n",
              "      <td>33.335212</td>\n",
              "      <td>1.578695</td>\n",
              "      <td>0.212256</td>\n",
              "      <td>0.052778</td>\n",
              "      <td>500</td>\n",
              "      <td>4</td>\n",
              "      <td>2</td>\n",
              "      <td>1.0</td>\n",
              "      <td>15</td>\n",
              "      <td>friedman_mse</td>\n",
              "      <td>{'n_estimators': 500, 'min_samples_split': 4, ...</td>\n",
              "      <td>-80110.202049</td>\n",
              "      <td>-70213.133011</td>\n",
              "      <td>-81437.933605</td>\n",
              "      <td>-73325.662325</td>\n",
              "      <td>-76271.732747</td>\n",
              "      <td>4658.579171</td>\n",
              "      <td>1</td>\n",
              "      <td>-33759.632090</td>\n",
              "      <td>-32955.392298</td>\n",
              "      <td>-33975.290597</td>\n",
              "      <td>-33657.000384</td>\n",
              "      <td>-33586.828842</td>\n",
              "      <td>382.230183</td>\n",
              "    </tr>\n",
              "    <tr>\n",
              "      <th>13</th>\n",
              "      <td>2130.805060</td>\n",
              "      <td>30.520462</td>\n",
              "      <td>0.571099</td>\n",
              "      <td>0.141147</td>\n",
              "      <td>1500</td>\n",
              "      <td>10</td>\n",
              "      <td>1</td>\n",
              "      <td>1.0</td>\n",
              "      <td>15</td>\n",
              "      <td>absolute_error</td>\n",
              "      <td>{'n_estimators': 1500, 'min_samples_split': 10...</td>\n",
              "      <td>-100590.436260</td>\n",
              "      <td>-94461.617259</td>\n",
              "      <td>-102942.860261</td>\n",
              "      <td>-95129.731064</td>\n",
              "      <td>-98281.161211</td>\n",
              "      <td>3591.121595</td>\n",
              "      <td>2</td>\n",
              "      <td>-55612.110715</td>\n",
              "      <td>-58197.856692</td>\n",
              "      <td>-58188.629055</td>\n",
              "      <td>-57964.933385</td>\n",
              "      <td>-57490.882462</td>\n",
              "      <td>1088.711443</td>\n",
              "    </tr>\n",
              "    <tr>\n",
              "      <th>18</th>\n",
              "      <td>27.706727</td>\n",
              "      <td>1.566329</td>\n",
              "      <td>0.135989</td>\n",
              "      <td>0.015076</td>\n",
              "      <td>500</td>\n",
              "      <td>6</td>\n",
              "      <td>1</td>\n",
              "      <td>1.0</td>\n",
              "      <td>10</td>\n",
              "      <td>poisson</td>\n",
              "      <td>{'n_estimators': 500, 'min_samples_split': 6, ...</td>\n",
              "      <td>-108976.076354</td>\n",
              "      <td>-100272.012107</td>\n",
              "      <td>-109053.904389</td>\n",
              "      <td>-97220.252180</td>\n",
              "      <td>-103880.561257</td>\n",
              "      <td>5246.644100</td>\n",
              "      <td>3</td>\n",
              "      <td>-68044.640994</td>\n",
              "      <td>-70450.336360</td>\n",
              "      <td>-68376.662466</td>\n",
              "      <td>-64962.207313</td>\n",
              "      <td>-67958.461783</td>\n",
              "      <td>1960.184840</td>\n",
              "    </tr>\n",
              "    <tr>\n",
              "      <th>22</th>\n",
              "      <td>61.934767</td>\n",
              "      <td>1.263664</td>\n",
              "      <td>0.461088</td>\n",
              "      <td>0.169536</td>\n",
              "      <td>1500</td>\n",
              "      <td>2</td>\n",
              "      <td>8</td>\n",
              "      <td>1.0</td>\n",
              "      <td>10</td>\n",
              "      <td>squared_error</td>\n",
              "      <td>{'n_estimators': 1500, 'min_samples_split': 2,...</td>\n",
              "      <td>-119148.269646</td>\n",
              "      <td>-103371.288469</td>\n",
              "      <td>-117140.792854</td>\n",
              "      <td>-104855.657353</td>\n",
              "      <td>-111129.002081</td>\n",
              "      <td>7070.842509</td>\n",
              "      <td>4</td>\n",
              "      <td>-85786.282162</td>\n",
              "      <td>-84208.536978</td>\n",
              "      <td>-84453.431669</td>\n",
              "      <td>-83280.621196</td>\n",
              "      <td>-84432.218001</td>\n",
              "      <td>895.844319</td>\n",
              "    </tr>\n",
              "    <tr>\n",
              "      <th>17</th>\n",
              "      <td>494.892492</td>\n",
              "      <td>1.482542</td>\n",
              "      <td>0.108188</td>\n",
              "      <td>0.035010</td>\n",
              "      <td>500</td>\n",
              "      <td>6</td>\n",
              "      <td>8</td>\n",
              "      <td>1.0</td>\n",
              "      <td>5</td>\n",
              "      <td>absolute_error</td>\n",
              "      <td>{'n_estimators': 500, 'min_samples_split': 6, ...</td>\n",
              "      <td>-533554.550174</td>\n",
              "      <td>-520814.641428</td>\n",
              "      <td>-530688.555563</td>\n",
              "      <td>-490242.773792</td>\n",
              "      <td>-518825.130239</td>\n",
              "      <td>17165.415280</td>\n",
              "      <td>5</td>\n",
              "      <td>-483072.366206</td>\n",
              "      <td>-495279.346842</td>\n",
              "      <td>-488016.072889</td>\n",
              "      <td>-486775.767347</td>\n",
              "      <td>-488285.888321</td>\n",
              "      <td>4428.389681</td>\n",
              "    </tr>\n",
              "    <tr>\n",
              "      <th>0</th>\n",
              "      <td>3.172326</td>\n",
              "      <td>0.592217</td>\n",
              "      <td>0.025794</td>\n",
              "      <td>0.006203</td>\n",
              "      <td>100</td>\n",
              "      <td>2</td>\n",
              "      <td>6</td>\n",
              "      <td>1.0</td>\n",
              "      <td>5</td>\n",
              "      <td>squared_error</td>\n",
              "      <td>{'n_estimators': 100, 'min_samples_split': 2, ...</td>\n",
              "      <td>-553135.864053</td>\n",
              "      <td>-526851.540501</td>\n",
              "      <td>-525889.375285</td>\n",
              "      <td>-508222.214942</td>\n",
              "      <td>-528524.748695</td>\n",
              "      <td>16028.448885</td>\n",
              "      <td>6</td>\n",
              "      <td>-486260.685250</td>\n",
              "      <td>-503715.568690</td>\n",
              "      <td>-498910.568392</td>\n",
              "      <td>-502913.689312</td>\n",
              "      <td>-497950.127911</td>\n",
              "      <td>6990.042289</td>\n",
              "    </tr>\n",
              "    <tr>\n",
              "      <th>20</th>\n",
              "      <td>14.961005</td>\n",
              "      <td>0.809880</td>\n",
              "      <td>0.116253</td>\n",
              "      <td>0.036349</td>\n",
              "      <td>500</td>\n",
              "      <td>6</td>\n",
              "      <td>1</td>\n",
              "      <td>1.0</td>\n",
              "      <td>5</td>\n",
              "      <td>poisson</td>\n",
              "      <td>{'n_estimators': 500, 'min_samples_split': 6, ...</td>\n",
              "      <td>-617772.745875</td>\n",
              "      <td>-606240.208215</td>\n",
              "      <td>-590340.681903</td>\n",
              "      <td>-548713.129659</td>\n",
              "      <td>-590766.691413</td>\n",
              "      <td>26160.276376</td>\n",
              "      <td>7</td>\n",
              "      <td>-563922.665060</td>\n",
              "      <td>-575736.557349</td>\n",
              "      <td>-561788.883159</td>\n",
              "      <td>-547715.850524</td>\n",
              "      <td>-562290.989023</td>\n",
              "      <td>9951.538158</td>\n",
              "    </tr>\n",
              "    <tr>\n",
              "      <th>8</th>\n",
              "      <td>44.993672</td>\n",
              "      <td>1.532459</td>\n",
              "      <td>0.273882</td>\n",
              "      <td>0.092172</td>\n",
              "      <td>1500</td>\n",
              "      <td>6</td>\n",
              "      <td>2</td>\n",
              "      <td>1.0</td>\n",
              "      <td>5</td>\n",
              "      <td>poisson</td>\n",
              "      <td>{'n_estimators': 1500, 'min_samples_split': 6,...</td>\n",
              "      <td>-617769.817883</td>\n",
              "      <td>-606342.360030</td>\n",
              "      <td>-588107.226207</td>\n",
              "      <td>-551689.382226</td>\n",
              "      <td>-590977.196587</td>\n",
              "      <td>25028.493216</td>\n",
              "      <td>8</td>\n",
              "      <td>-565658.959590</td>\n",
              "      <td>-575904.788863</td>\n",
              "      <td>-560083.693487</td>\n",
              "      <td>-550559.844133</td>\n",
              "      <td>-563051.821518</td>\n",
              "      <td>9176.808017</td>\n",
              "    </tr>\n",
              "    <tr>\n",
              "      <th>1</th>\n",
              "      <td>3.172289</td>\n",
              "      <td>0.745524</td>\n",
              "      <td>0.018683</td>\n",
              "      <td>0.003563</td>\n",
              "      <td>100</td>\n",
              "      <td>6</td>\n",
              "      <td>8</td>\n",
              "      <td>1.0</td>\n",
              "      <td>5</td>\n",
              "      <td>poisson</td>\n",
              "      <td>{'n_estimators': 100, 'min_samples_split': 6, ...</td>\n",
              "      <td>-624604.640761</td>\n",
              "      <td>-607416.040542</td>\n",
              "      <td>-590787.309821</td>\n",
              "      <td>-546532.526190</td>\n",
              "      <td>-592335.129328</td>\n",
              "      <td>29021.670570</td>\n",
              "      <td>9</td>\n",
              "      <td>-568475.027518</td>\n",
              "      <td>-575505.984903</td>\n",
              "      <td>-563178.681447</td>\n",
              "      <td>-545617.372851</td>\n",
              "      <td>-563194.266680</td>\n",
              "      <td>11050.025794</td>\n",
              "    </tr>\n",
              "    <tr>\n",
              "      <th>6</th>\n",
              "      <td>20.826303</td>\n",
              "      <td>0.184128</td>\n",
              "      <td>0.469714</td>\n",
              "      <td>0.017934</td>\n",
              "      <td>1500</td>\n",
              "      <td>6</td>\n",
              "      <td>2</td>\n",
              "      <td>sqrt</td>\n",
              "      <td>15</td>\n",
              "      <td>poisson</td>\n",
              "      <td>{'n_estimators': 1500, 'min_samples_split': 6,...</td>\n",
              "      <td>-745474.318168</td>\n",
              "      <td>-697700.993451</td>\n",
              "      <td>-695611.821151</td>\n",
              "      <td>-697443.263190</td>\n",
              "      <td>-709057.598990</td>\n",
              "      <td>21040.625364</td>\n",
              "      <td>10</td>\n",
              "      <td>-499144.671982</td>\n",
              "      <td>-496951.353141</td>\n",
              "      <td>-499839.868156</td>\n",
              "      <td>-500249.125786</td>\n",
              "      <td>-499046.254766</td>\n",
              "      <td>1272.302997</td>\n",
              "    </tr>\n",
              "  </tbody>\n",
              "</table>\n",
              "</div>\n",
              "    <div class=\"colab-df-buttons\">\n",
              "\n",
              "  <div class=\"colab-df-container\">\n",
              "    <button class=\"colab-df-convert\" onclick=\"convertToInteractive('df-3beb2028-2943-498e-a8ec-3eae16e6af98')\"\n",
              "            title=\"Convert this dataframe to an interactive table.\"\n",
              "            style=\"display:none;\">\n",
              "\n",
              "  <svg xmlns=\"http://www.w3.org/2000/svg\" height=\"24px\" viewBox=\"0 -960 960 960\">\n",
              "    <path d=\"M120-120v-720h720v720H120Zm60-500h600v-160H180v160Zm220 220h160v-160H400v160Zm0 220h160v-160H400v160ZM180-400h160v-160H180v160Zm440 0h160v-160H620v160ZM180-180h160v-160H180v160Zm440 0h160v-160H620v160Z\"/>\n",
              "  </svg>\n",
              "    </button>\n",
              "\n",
              "  <style>\n",
              "    .colab-df-container {\n",
              "      display:flex;\n",
              "      gap: 12px;\n",
              "    }\n",
              "\n",
              "    .colab-df-convert {\n",
              "      background-color: #E8F0FE;\n",
              "      border: none;\n",
              "      border-radius: 50%;\n",
              "      cursor: pointer;\n",
              "      display: none;\n",
              "      fill: #1967D2;\n",
              "      height: 32px;\n",
              "      padding: 0 0 0 0;\n",
              "      width: 32px;\n",
              "    }\n",
              "\n",
              "    .colab-df-convert:hover {\n",
              "      background-color: #E2EBFA;\n",
              "      box-shadow: 0px 1px 2px rgba(60, 64, 67, 0.3), 0px 1px 3px 1px rgba(60, 64, 67, 0.15);\n",
              "      fill: #174EA6;\n",
              "    }\n",
              "\n",
              "    .colab-df-buttons div {\n",
              "      margin-bottom: 4px;\n",
              "    }\n",
              "\n",
              "    [theme=dark] .colab-df-convert {\n",
              "      background-color: #3B4455;\n",
              "      fill: #D2E3FC;\n",
              "    }\n",
              "\n",
              "    [theme=dark] .colab-df-convert:hover {\n",
              "      background-color: #434B5C;\n",
              "      box-shadow: 0px 1px 3px 1px rgba(0, 0, 0, 0.15);\n",
              "      filter: drop-shadow(0px 1px 2px rgba(0, 0, 0, 0.3));\n",
              "      fill: #FFFFFF;\n",
              "    }\n",
              "  </style>\n",
              "\n",
              "    <script>\n",
              "      const buttonEl =\n",
              "        document.querySelector('#df-3beb2028-2943-498e-a8ec-3eae16e6af98 button.colab-df-convert');\n",
              "      buttonEl.style.display =\n",
              "        google.colab.kernel.accessAllowed ? 'block' : 'none';\n",
              "\n",
              "      async function convertToInteractive(key) {\n",
              "        const element = document.querySelector('#df-3beb2028-2943-498e-a8ec-3eae16e6af98');\n",
              "        const dataTable =\n",
              "          await google.colab.kernel.invokeFunction('convertToInteractive',\n",
              "                                                    [key], {});\n",
              "        if (!dataTable) return;\n",
              "\n",
              "        const docLinkHtml = 'Like what you see? Visit the ' +\n",
              "          '<a target=\"_blank\" href=https://colab.research.google.com/notebooks/data_table.ipynb>data table notebook</a>'\n",
              "          + ' to learn more about interactive tables.';\n",
              "        element.innerHTML = '';\n",
              "        dataTable['output_type'] = 'display_data';\n",
              "        await google.colab.output.renderOutput(dataTable, element);\n",
              "        const docLink = document.createElement('div');\n",
              "        docLink.innerHTML = docLinkHtml;\n",
              "        element.appendChild(docLink);\n",
              "      }\n",
              "    </script>\n",
              "  </div>\n",
              "\n",
              "\n",
              "<div id=\"df-10f55f67-db70-424e-b3dc-8a450bcb385c\">\n",
              "  <button class=\"colab-df-quickchart\" onclick=\"quickchart('df-10f55f67-db70-424e-b3dc-8a450bcb385c')\"\n",
              "            title=\"Suggest charts\"\n",
              "            style=\"display:none;\">\n",
              "\n",
              "<svg xmlns=\"http://www.w3.org/2000/svg\" height=\"24px\"viewBox=\"0 0 24 24\"\n",
              "     width=\"24px\">\n",
              "    <g>\n",
              "        <path d=\"M19 3H5c-1.1 0-2 .9-2 2v14c0 1.1.9 2 2 2h14c1.1 0 2-.9 2-2V5c0-1.1-.9-2-2-2zM9 17H7v-7h2v7zm4 0h-2V7h2v10zm4 0h-2v-4h2v4z\"/>\n",
              "    </g>\n",
              "</svg>\n",
              "  </button>\n",
              "\n",
              "<style>\n",
              "  .colab-df-quickchart {\n",
              "      --bg-color: #E8F0FE;\n",
              "      --fill-color: #1967D2;\n",
              "      --hover-bg-color: #E2EBFA;\n",
              "      --hover-fill-color: #174EA6;\n",
              "      --disabled-fill-color: #AAA;\n",
              "      --disabled-bg-color: #DDD;\n",
              "  }\n",
              "\n",
              "  [theme=dark] .colab-df-quickchart {\n",
              "      --bg-color: #3B4455;\n",
              "      --fill-color: #D2E3FC;\n",
              "      --hover-bg-color: #434B5C;\n",
              "      --hover-fill-color: #FFFFFF;\n",
              "      --disabled-bg-color: #3B4455;\n",
              "      --disabled-fill-color: #666;\n",
              "  }\n",
              "\n",
              "  .colab-df-quickchart {\n",
              "    background-color: var(--bg-color);\n",
              "    border: none;\n",
              "    border-radius: 50%;\n",
              "    cursor: pointer;\n",
              "    display: none;\n",
              "    fill: var(--fill-color);\n",
              "    height: 32px;\n",
              "    padding: 0;\n",
              "    width: 32px;\n",
              "  }\n",
              "\n",
              "  .colab-df-quickchart:hover {\n",
              "    background-color: var(--hover-bg-color);\n",
              "    box-shadow: 0 1px 2px rgba(60, 64, 67, 0.3), 0 1px 3px 1px rgba(60, 64, 67, 0.15);\n",
              "    fill: var(--button-hover-fill-color);\n",
              "  }\n",
              "\n",
              "  .colab-df-quickchart-complete:disabled,\n",
              "  .colab-df-quickchart-complete:disabled:hover {\n",
              "    background-color: var(--disabled-bg-color);\n",
              "    fill: var(--disabled-fill-color);\n",
              "    box-shadow: none;\n",
              "  }\n",
              "\n",
              "  .colab-df-spinner {\n",
              "    border: 2px solid var(--fill-color);\n",
              "    border-color: transparent;\n",
              "    border-bottom-color: var(--fill-color);\n",
              "    animation:\n",
              "      spin 1s steps(1) infinite;\n",
              "  }\n",
              "\n",
              "  @keyframes spin {\n",
              "    0% {\n",
              "      border-color: transparent;\n",
              "      border-bottom-color: var(--fill-color);\n",
              "      border-left-color: var(--fill-color);\n",
              "    }\n",
              "    20% {\n",
              "      border-color: transparent;\n",
              "      border-left-color: var(--fill-color);\n",
              "      border-top-color: var(--fill-color);\n",
              "    }\n",
              "    30% {\n",
              "      border-color: transparent;\n",
              "      border-left-color: var(--fill-color);\n",
              "      border-top-color: var(--fill-color);\n",
              "      border-right-color: var(--fill-color);\n",
              "    }\n",
              "    40% {\n",
              "      border-color: transparent;\n",
              "      border-right-color: var(--fill-color);\n",
              "      border-top-color: var(--fill-color);\n",
              "    }\n",
              "    60% {\n",
              "      border-color: transparent;\n",
              "      border-right-color: var(--fill-color);\n",
              "    }\n",
              "    80% {\n",
              "      border-color: transparent;\n",
              "      border-right-color: var(--fill-color);\n",
              "      border-bottom-color: var(--fill-color);\n",
              "    }\n",
              "    90% {\n",
              "      border-color: transparent;\n",
              "      border-bottom-color: var(--fill-color);\n",
              "    }\n",
              "  }\n",
              "</style>\n",
              "\n",
              "  <script>\n",
              "    async function quickchart(key) {\n",
              "      const quickchartButtonEl =\n",
              "        document.querySelector('#' + key + ' button');\n",
              "      quickchartButtonEl.disabled = true;  // To prevent multiple clicks.\n",
              "      quickchartButtonEl.classList.add('colab-df-spinner');\n",
              "      try {\n",
              "        const charts = await google.colab.kernel.invokeFunction(\n",
              "            'suggestCharts', [key], {});\n",
              "      } catch (error) {\n",
              "        console.error('Error during call to suggestCharts:', error);\n",
              "      }\n",
              "      quickchartButtonEl.classList.remove('colab-df-spinner');\n",
              "      quickchartButtonEl.classList.add('colab-df-quickchart-complete');\n",
              "    }\n",
              "    (() => {\n",
              "      let quickchartButtonEl =\n",
              "        document.querySelector('#df-10f55f67-db70-424e-b3dc-8a450bcb385c button');\n",
              "      quickchartButtonEl.style.display =\n",
              "        google.colab.kernel.accessAllowed ? 'block' : 'none';\n",
              "    })();\n",
              "  </script>\n",
              "</div>\n",
              "    </div>\n",
              "  </div>\n"
            ]
          },
          "metadata": {},
          "execution_count": 17
        }
      ]
    },
    {
      "cell_type": "code",
      "source": [
        "random_cv.best_estimator_"
      ],
      "metadata": {
        "colab": {
          "base_uri": "https://localhost:8080/",
          "height": 110
        },
        "id": "eyQG5YGhsQqP",
        "outputId": "458f877e-a6e8-4779-8c8b-63eb0f2d8998"
      },
      "execution_count": 18,
      "outputs": [
        {
          "output_type": "execute_result",
          "data": {
            "text/plain": [
              "RandomForestRegressor(criterion='friedman_mse', max_depth=15,\n",
              "                      min_samples_leaf=2, min_samples_split=4, n_estimators=500,\n",
              "                      random_state=42)"
            ],
            "text/html": [
              "<style>#sk-container-id-2 {color: black;background-color: white;}#sk-container-id-2 pre{padding: 0;}#sk-container-id-2 div.sk-toggleable {background-color: white;}#sk-container-id-2 label.sk-toggleable__label {cursor: pointer;display: block;width: 100%;margin-bottom: 0;padding: 0.3em;box-sizing: border-box;text-align: center;}#sk-container-id-2 label.sk-toggleable__label-arrow:before {content: \"▸\";float: left;margin-right: 0.25em;color: #696969;}#sk-container-id-2 label.sk-toggleable__label-arrow:hover:before {color: black;}#sk-container-id-2 div.sk-estimator:hover label.sk-toggleable__label-arrow:before {color: black;}#sk-container-id-2 div.sk-toggleable__content {max-height: 0;max-width: 0;overflow: hidden;text-align: left;background-color: #f0f8ff;}#sk-container-id-2 div.sk-toggleable__content pre {margin: 0.2em;color: black;border-radius: 0.25em;background-color: #f0f8ff;}#sk-container-id-2 input.sk-toggleable__control:checked~div.sk-toggleable__content {max-height: 200px;max-width: 100%;overflow: auto;}#sk-container-id-2 input.sk-toggleable__control:checked~label.sk-toggleable__label-arrow:before {content: \"▾\";}#sk-container-id-2 div.sk-estimator input.sk-toggleable__control:checked~label.sk-toggleable__label {background-color: #d4ebff;}#sk-container-id-2 div.sk-label input.sk-toggleable__control:checked~label.sk-toggleable__label {background-color: #d4ebff;}#sk-container-id-2 input.sk-hidden--visually {border: 0;clip: rect(1px 1px 1px 1px);clip: rect(1px, 1px, 1px, 1px);height: 1px;margin: -1px;overflow: hidden;padding: 0;position: absolute;width: 1px;}#sk-container-id-2 div.sk-estimator {font-family: monospace;background-color: #f0f8ff;border: 1px dotted black;border-radius: 0.25em;box-sizing: border-box;margin-bottom: 0.5em;}#sk-container-id-2 div.sk-estimator:hover {background-color: #d4ebff;}#sk-container-id-2 div.sk-parallel-item::after {content: \"\";width: 100%;border-bottom: 1px solid gray;flex-grow: 1;}#sk-container-id-2 div.sk-label:hover label.sk-toggleable__label {background-color: #d4ebff;}#sk-container-id-2 div.sk-serial::before {content: \"\";position: absolute;border-left: 1px solid gray;box-sizing: border-box;top: 0;bottom: 0;left: 50%;z-index: 0;}#sk-container-id-2 div.sk-serial {display: flex;flex-direction: column;align-items: center;background-color: white;padding-right: 0.2em;padding-left: 0.2em;position: relative;}#sk-container-id-2 div.sk-item {position: relative;z-index: 1;}#sk-container-id-2 div.sk-parallel {display: flex;align-items: stretch;justify-content: center;background-color: white;position: relative;}#sk-container-id-2 div.sk-item::before, #sk-container-id-2 div.sk-parallel-item::before {content: \"\";position: absolute;border-left: 1px solid gray;box-sizing: border-box;top: 0;bottom: 0;left: 50%;z-index: -1;}#sk-container-id-2 div.sk-parallel-item {display: flex;flex-direction: column;z-index: 1;position: relative;background-color: white;}#sk-container-id-2 div.sk-parallel-item:first-child::after {align-self: flex-end;width: 50%;}#sk-container-id-2 div.sk-parallel-item:last-child::after {align-self: flex-start;width: 50%;}#sk-container-id-2 div.sk-parallel-item:only-child::after {width: 0;}#sk-container-id-2 div.sk-dashed-wrapped {border: 1px dashed gray;margin: 0 0.4em 0.5em 0.4em;box-sizing: border-box;padding-bottom: 0.4em;background-color: white;}#sk-container-id-2 div.sk-label label {font-family: monospace;font-weight: bold;display: inline-block;line-height: 1.2em;}#sk-container-id-2 div.sk-label-container {text-align: center;}#sk-container-id-2 div.sk-container {/* jupyter's `normalize.less` sets `[hidden] { display: none; }` but bootstrap.min.css set `[hidden] { display: none !important; }` so we also need the `!important` here to be able to override the default hidden behavior on the sphinx rendered scikit-learn.org. See: https://github.com/scikit-learn/scikit-learn/issues/21755 */display: inline-block !important;position: relative;}#sk-container-id-2 div.sk-text-repr-fallback {display: none;}</style><div id=\"sk-container-id-2\" class=\"sk-top-container\"><div class=\"sk-text-repr-fallback\"><pre>RandomForestRegressor(criterion=&#x27;friedman_mse&#x27;, max_depth=15,\n",
              "                      min_samples_leaf=2, min_samples_split=4, n_estimators=500,\n",
              "                      random_state=42)</pre><b>In a Jupyter environment, please rerun this cell to show the HTML representation or trust the notebook. <br />On GitHub, the HTML representation is unable to render, please try loading this page with nbviewer.org.</b></div><div class=\"sk-container\" hidden><div class=\"sk-item\"><div class=\"sk-estimator sk-toggleable\"><input class=\"sk-toggleable__control sk-hidden--visually\" id=\"sk-estimator-id-4\" type=\"checkbox\" checked><label for=\"sk-estimator-id-4\" class=\"sk-toggleable__label sk-toggleable__label-arrow\">RandomForestRegressor</label><div class=\"sk-toggleable__content\"><pre>RandomForestRegressor(criterion=&#x27;friedman_mse&#x27;, max_depth=15,\n",
              "                      min_samples_leaf=2, min_samples_split=4, n_estimators=500,\n",
              "                      random_state=42)</pre></div></div></div></div></div>"
            ]
          },
          "metadata": {},
          "execution_count": 18
        }
      ]
    },
    {
      "cell_type": "code",
      "source": [
        "# Create parametrs to evaluete\n",
        "p_grid = {'n_estimators': [500, 600, 700, 800],\n",
        "          'min_samples_split': [4, 5],}\n",
        "\n",
        "model = RandomForestRegressor(criterion='friedman_mse',\n",
        "                              max_depth=15,\n",
        "                              min_samples_leaf=2,\n",
        "                              max_features=1.0,\n",
        "                              random_state=42)\n",
        "\n",
        "# Random Forest Object using the trees range and the random forest model\n",
        "grid_search = GridSearchCV(estimator = model, param_grid=p_grid, cv = 4,\n",
        "                           scoring = 'neg_mean_absolute_error', verbose = 1,\n",
        "                           n_jobs = -1, return_train_score = True)"
      ],
      "metadata": {
        "id": "FN6bSKVrJlU8"
      },
      "execution_count": 19,
      "outputs": []
    },
    {
      "cell_type": "code",
      "source": [
        "# Fit the grid search\n",
        "grid_search.fit(X, y)"
      ],
      "metadata": {
        "id": "oV4DXzcGMq2Y",
        "colab": {
          "base_uri": "https://localhost:8080/",
          "height": 136
        },
        "outputId": "5222d6cc-e26d-4e63-a86b-58677e1e89e9"
      },
      "execution_count": 20,
      "outputs": [
        {
          "output_type": "stream",
          "name": "stdout",
          "text": [
            "Fitting 4 folds for each of 8 candidates, totalling 32 fits\n"
          ]
        },
        {
          "output_type": "execute_result",
          "data": {
            "text/plain": [
              "GridSearchCV(cv=4,\n",
              "             estimator=RandomForestRegressor(criterion='friedman_mse',\n",
              "                                             max_depth=15, min_samples_leaf=2,\n",
              "                                             random_state=42),\n",
              "             n_jobs=-1,\n",
              "             param_grid={'min_samples_split': [4, 5],\n",
              "                         'n_estimators': [500, 600, 700, 800]},\n",
              "             return_train_score=True, scoring='neg_mean_absolute_error',\n",
              "             verbose=1)"
            ],
            "text/html": [
              "<style>#sk-container-id-3 {color: black;background-color: white;}#sk-container-id-3 pre{padding: 0;}#sk-container-id-3 div.sk-toggleable {background-color: white;}#sk-container-id-3 label.sk-toggleable__label {cursor: pointer;display: block;width: 100%;margin-bottom: 0;padding: 0.3em;box-sizing: border-box;text-align: center;}#sk-container-id-3 label.sk-toggleable__label-arrow:before {content: \"▸\";float: left;margin-right: 0.25em;color: #696969;}#sk-container-id-3 label.sk-toggleable__label-arrow:hover:before {color: black;}#sk-container-id-3 div.sk-estimator:hover label.sk-toggleable__label-arrow:before {color: black;}#sk-container-id-3 div.sk-toggleable__content {max-height: 0;max-width: 0;overflow: hidden;text-align: left;background-color: #f0f8ff;}#sk-container-id-3 div.sk-toggleable__content pre {margin: 0.2em;color: black;border-radius: 0.25em;background-color: #f0f8ff;}#sk-container-id-3 input.sk-toggleable__control:checked~div.sk-toggleable__content {max-height: 200px;max-width: 100%;overflow: auto;}#sk-container-id-3 input.sk-toggleable__control:checked~label.sk-toggleable__label-arrow:before {content: \"▾\";}#sk-container-id-3 div.sk-estimator input.sk-toggleable__control:checked~label.sk-toggleable__label {background-color: #d4ebff;}#sk-container-id-3 div.sk-label input.sk-toggleable__control:checked~label.sk-toggleable__label {background-color: #d4ebff;}#sk-container-id-3 input.sk-hidden--visually {border: 0;clip: rect(1px 1px 1px 1px);clip: rect(1px, 1px, 1px, 1px);height: 1px;margin: -1px;overflow: hidden;padding: 0;position: absolute;width: 1px;}#sk-container-id-3 div.sk-estimator {font-family: monospace;background-color: #f0f8ff;border: 1px dotted black;border-radius: 0.25em;box-sizing: border-box;margin-bottom: 0.5em;}#sk-container-id-3 div.sk-estimator:hover {background-color: #d4ebff;}#sk-container-id-3 div.sk-parallel-item::after {content: \"\";width: 100%;border-bottom: 1px solid gray;flex-grow: 1;}#sk-container-id-3 div.sk-label:hover label.sk-toggleable__label {background-color: #d4ebff;}#sk-container-id-3 div.sk-serial::before {content: \"\";position: absolute;border-left: 1px solid gray;box-sizing: border-box;top: 0;bottom: 0;left: 50%;z-index: 0;}#sk-container-id-3 div.sk-serial {display: flex;flex-direction: column;align-items: center;background-color: white;padding-right: 0.2em;padding-left: 0.2em;position: relative;}#sk-container-id-3 div.sk-item {position: relative;z-index: 1;}#sk-container-id-3 div.sk-parallel {display: flex;align-items: stretch;justify-content: center;background-color: white;position: relative;}#sk-container-id-3 div.sk-item::before, #sk-container-id-3 div.sk-parallel-item::before {content: \"\";position: absolute;border-left: 1px solid gray;box-sizing: border-box;top: 0;bottom: 0;left: 50%;z-index: -1;}#sk-container-id-3 div.sk-parallel-item {display: flex;flex-direction: column;z-index: 1;position: relative;background-color: white;}#sk-container-id-3 div.sk-parallel-item:first-child::after {align-self: flex-end;width: 50%;}#sk-container-id-3 div.sk-parallel-item:last-child::after {align-self: flex-start;width: 50%;}#sk-container-id-3 div.sk-parallel-item:only-child::after {width: 0;}#sk-container-id-3 div.sk-dashed-wrapped {border: 1px dashed gray;margin: 0 0.4em 0.5em 0.4em;box-sizing: border-box;padding-bottom: 0.4em;background-color: white;}#sk-container-id-3 div.sk-label label {font-family: monospace;font-weight: bold;display: inline-block;line-height: 1.2em;}#sk-container-id-3 div.sk-label-container {text-align: center;}#sk-container-id-3 div.sk-container {/* jupyter's `normalize.less` sets `[hidden] { display: none; }` but bootstrap.min.css set `[hidden] { display: none !important; }` so we also need the `!important` here to be able to override the default hidden behavior on the sphinx rendered scikit-learn.org. See: https://github.com/scikit-learn/scikit-learn/issues/21755 */display: inline-block !important;position: relative;}#sk-container-id-3 div.sk-text-repr-fallback {display: none;}</style><div id=\"sk-container-id-3\" class=\"sk-top-container\"><div class=\"sk-text-repr-fallback\"><pre>GridSearchCV(cv=4,\n",
              "             estimator=RandomForestRegressor(criterion=&#x27;friedman_mse&#x27;,\n",
              "                                             max_depth=15, min_samples_leaf=2,\n",
              "                                             random_state=42),\n",
              "             n_jobs=-1,\n",
              "             param_grid={&#x27;min_samples_split&#x27;: [4, 5],\n",
              "                         &#x27;n_estimators&#x27;: [500, 600, 700, 800]},\n",
              "             return_train_score=True, scoring=&#x27;neg_mean_absolute_error&#x27;,\n",
              "             verbose=1)</pre><b>In a Jupyter environment, please rerun this cell to show the HTML representation or trust the notebook. <br />On GitHub, the HTML representation is unable to render, please try loading this page with nbviewer.org.</b></div><div class=\"sk-container\" hidden><div class=\"sk-item sk-dashed-wrapped\"><div class=\"sk-label-container\"><div class=\"sk-label sk-toggleable\"><input class=\"sk-toggleable__control sk-hidden--visually\" id=\"sk-estimator-id-5\" type=\"checkbox\" ><label for=\"sk-estimator-id-5\" class=\"sk-toggleable__label sk-toggleable__label-arrow\">GridSearchCV</label><div class=\"sk-toggleable__content\"><pre>GridSearchCV(cv=4,\n",
              "             estimator=RandomForestRegressor(criterion=&#x27;friedman_mse&#x27;,\n",
              "                                             max_depth=15, min_samples_leaf=2,\n",
              "                                             random_state=42),\n",
              "             n_jobs=-1,\n",
              "             param_grid={&#x27;min_samples_split&#x27;: [4, 5],\n",
              "                         &#x27;n_estimators&#x27;: [500, 600, 700, 800]},\n",
              "             return_train_score=True, scoring=&#x27;neg_mean_absolute_error&#x27;,\n",
              "             verbose=1)</pre></div></div></div><div class=\"sk-parallel\"><div class=\"sk-parallel-item\"><div class=\"sk-item\"><div class=\"sk-label-container\"><div class=\"sk-label sk-toggleable\"><input class=\"sk-toggleable__control sk-hidden--visually\" id=\"sk-estimator-id-6\" type=\"checkbox\" ><label for=\"sk-estimator-id-6\" class=\"sk-toggleable__label sk-toggleable__label-arrow\">estimator: RandomForestRegressor</label><div class=\"sk-toggleable__content\"><pre>RandomForestRegressor(criterion=&#x27;friedman_mse&#x27;, max_depth=15,\n",
              "                      min_samples_leaf=2, random_state=42)</pre></div></div></div><div class=\"sk-serial\"><div class=\"sk-item\"><div class=\"sk-estimator sk-toggleable\"><input class=\"sk-toggleable__control sk-hidden--visually\" id=\"sk-estimator-id-7\" type=\"checkbox\" ><label for=\"sk-estimator-id-7\" class=\"sk-toggleable__label sk-toggleable__label-arrow\">RandomForestRegressor</label><div class=\"sk-toggleable__content\"><pre>RandomForestRegressor(criterion=&#x27;friedman_mse&#x27;, max_depth=15,\n",
              "                      min_samples_leaf=2, random_state=42)</pre></div></div></div></div></div></div></div></div></div></div>"
            ]
          },
          "metadata": {},
          "execution_count": 20
        }
      ]
    },
    {
      "cell_type": "code",
      "source": [
        "grid_search.best_estimator_"
      ],
      "metadata": {
        "colab": {
          "base_uri": "https://localhost:8080/",
          "height": 110
        },
        "id": "blZvEo9JNw0U",
        "outputId": "d5111a9a-3d46-47b1-893e-ef786127bafd"
      },
      "execution_count": 21,
      "outputs": [
        {
          "output_type": "execute_result",
          "data": {
            "text/plain": [
              "RandomForestRegressor(criterion='friedman_mse', max_depth=15,\n",
              "                      min_samples_leaf=2, min_samples_split=4, n_estimators=800,\n",
              "                      random_state=42)"
            ],
            "text/html": [
              "<style>#sk-container-id-4 {color: black;background-color: white;}#sk-container-id-4 pre{padding: 0;}#sk-container-id-4 div.sk-toggleable {background-color: white;}#sk-container-id-4 label.sk-toggleable__label {cursor: pointer;display: block;width: 100%;margin-bottom: 0;padding: 0.3em;box-sizing: border-box;text-align: center;}#sk-container-id-4 label.sk-toggleable__label-arrow:before {content: \"▸\";float: left;margin-right: 0.25em;color: #696969;}#sk-container-id-4 label.sk-toggleable__label-arrow:hover:before {color: black;}#sk-container-id-4 div.sk-estimator:hover label.sk-toggleable__label-arrow:before {color: black;}#sk-container-id-4 div.sk-toggleable__content {max-height: 0;max-width: 0;overflow: hidden;text-align: left;background-color: #f0f8ff;}#sk-container-id-4 div.sk-toggleable__content pre {margin: 0.2em;color: black;border-radius: 0.25em;background-color: #f0f8ff;}#sk-container-id-4 input.sk-toggleable__control:checked~div.sk-toggleable__content {max-height: 200px;max-width: 100%;overflow: auto;}#sk-container-id-4 input.sk-toggleable__control:checked~label.sk-toggleable__label-arrow:before {content: \"▾\";}#sk-container-id-4 div.sk-estimator input.sk-toggleable__control:checked~label.sk-toggleable__label {background-color: #d4ebff;}#sk-container-id-4 div.sk-label input.sk-toggleable__control:checked~label.sk-toggleable__label {background-color: #d4ebff;}#sk-container-id-4 input.sk-hidden--visually {border: 0;clip: rect(1px 1px 1px 1px);clip: rect(1px, 1px, 1px, 1px);height: 1px;margin: -1px;overflow: hidden;padding: 0;position: absolute;width: 1px;}#sk-container-id-4 div.sk-estimator {font-family: monospace;background-color: #f0f8ff;border: 1px dotted black;border-radius: 0.25em;box-sizing: border-box;margin-bottom: 0.5em;}#sk-container-id-4 div.sk-estimator:hover {background-color: #d4ebff;}#sk-container-id-4 div.sk-parallel-item::after {content: \"\";width: 100%;border-bottom: 1px solid gray;flex-grow: 1;}#sk-container-id-4 div.sk-label:hover label.sk-toggleable__label {background-color: #d4ebff;}#sk-container-id-4 div.sk-serial::before {content: \"\";position: absolute;border-left: 1px solid gray;box-sizing: border-box;top: 0;bottom: 0;left: 50%;z-index: 0;}#sk-container-id-4 div.sk-serial {display: flex;flex-direction: column;align-items: center;background-color: white;padding-right: 0.2em;padding-left: 0.2em;position: relative;}#sk-container-id-4 div.sk-item {position: relative;z-index: 1;}#sk-container-id-4 div.sk-parallel {display: flex;align-items: stretch;justify-content: center;background-color: white;position: relative;}#sk-container-id-4 div.sk-item::before, #sk-container-id-4 div.sk-parallel-item::before {content: \"\";position: absolute;border-left: 1px solid gray;box-sizing: border-box;top: 0;bottom: 0;left: 50%;z-index: -1;}#sk-container-id-4 div.sk-parallel-item {display: flex;flex-direction: column;z-index: 1;position: relative;background-color: white;}#sk-container-id-4 div.sk-parallel-item:first-child::after {align-self: flex-end;width: 50%;}#sk-container-id-4 div.sk-parallel-item:last-child::after {align-self: flex-start;width: 50%;}#sk-container-id-4 div.sk-parallel-item:only-child::after {width: 0;}#sk-container-id-4 div.sk-dashed-wrapped {border: 1px dashed gray;margin: 0 0.4em 0.5em 0.4em;box-sizing: border-box;padding-bottom: 0.4em;background-color: white;}#sk-container-id-4 div.sk-label label {font-family: monospace;font-weight: bold;display: inline-block;line-height: 1.2em;}#sk-container-id-4 div.sk-label-container {text-align: center;}#sk-container-id-4 div.sk-container {/* jupyter's `normalize.less` sets `[hidden] { display: none; }` but bootstrap.min.css set `[hidden] { display: none !important; }` so we also need the `!important` here to be able to override the default hidden behavior on the sphinx rendered scikit-learn.org. See: https://github.com/scikit-learn/scikit-learn/issues/21755 */display: inline-block !important;position: relative;}#sk-container-id-4 div.sk-text-repr-fallback {display: none;}</style><div id=\"sk-container-id-4\" class=\"sk-top-container\"><div class=\"sk-text-repr-fallback\"><pre>RandomForestRegressor(criterion=&#x27;friedman_mse&#x27;, max_depth=15,\n",
              "                      min_samples_leaf=2, min_samples_split=4, n_estimators=800,\n",
              "                      random_state=42)</pre><b>In a Jupyter environment, please rerun this cell to show the HTML representation or trust the notebook. <br />On GitHub, the HTML representation is unable to render, please try loading this page with nbviewer.org.</b></div><div class=\"sk-container\" hidden><div class=\"sk-item\"><div class=\"sk-estimator sk-toggleable\"><input class=\"sk-toggleable__control sk-hidden--visually\" id=\"sk-estimator-id-8\" type=\"checkbox\" checked><label for=\"sk-estimator-id-8\" class=\"sk-toggleable__label sk-toggleable__label-arrow\">RandomForestRegressor</label><div class=\"sk-toggleable__content\"><pre>RandomForestRegressor(criterion=&#x27;friedman_mse&#x27;, max_depth=15,\n",
              "                      min_samples_leaf=2, min_samples_split=4, n_estimators=800,\n",
              "                      random_state=42)</pre></div></div></div></div></div>"
            ]
          },
          "metadata": {},
          "execution_count": 21
        }
      ]
    },
    {
      "cell_type": "markdown",
      "source": [
        "График зависимости количества деревьев от средней абсолютной ошибки."
      ],
      "metadata": {
        "id": "9EIS-EjxT_1J"
      }
    },
    {
      "cell_type": "code",
      "source": [
        "# Get the results into a dataframe\n",
        "results = pd.DataFrame(grid_search.cv_results_)\n",
        "\n",
        "# Plot the training and testing error vs number of trees\n",
        "figsize(8, 8)\n",
        "plt.style.use('fivethirtyeight')\n",
        "plt.plot(results['param_n_estimators'], -1 * results['mean_test_score'], label = 'Testing Error')\n",
        "plt.plot(results['param_n_estimators'], -1 * results['mean_train_score'], label = 'Training Error')\n",
        "plt.xlabel('Number of Trees'); plt.ylabel('Mean Abosolute Error'); plt.legend();\n",
        "plt.title('Performance vs Number of Trees');"
      ],
      "metadata": {
        "id": "JB0KgEa5Qfdq"
      },
      "execution_count": null,
      "outputs": []
    },
    {
      "cell_type": "markdown",
      "source": [
        "Из графика видно, что с увеличением количества деревьев решений результут улучшается."
      ],
      "metadata": {
        "id": "R9adcwdtSpE7"
      }
    },
    {
      "cell_type": "markdown",
      "source": [
        "Дальше будем использовать лучшую модель для прогнозирования цены квартиры.\n"
      ],
      "metadata": {
        "id": "h4E7IFxtXEdR"
      }
    },
    {
      "cell_type": "code",
      "source": [
        "# Default model\n",
        "default_model = RandomForestRegressor(random_state = 42)\n",
        "\n",
        "# Select the best model\n",
        "final_model = grid_search.best_estimator_\n"
      ],
      "metadata": {
        "id": "ZlafwT4dPFmF"
      },
      "execution_count": 26,
      "outputs": []
    },
    {
      "cell_type": "markdown",
      "source": [
        "Сравним базовую и финальную модель:"
      ],
      "metadata": {
        "id": "1NjmBAVSXVNZ"
      }
    },
    {
      "cell_type": "code",
      "source": [
        "%%timeit -n 1 -r 5\n",
        "default_model.fit(X, y)"
      ],
      "metadata": {
        "colab": {
          "base_uri": "https://localhost:8080/"
        },
        "id": "rGWY22-aPSFd",
        "outputId": "792281c4-d3e6-4a28-9278-39390bd00e52"
      },
      "execution_count": 27,
      "outputs": [
        {
          "output_type": "stream",
          "name": "stdout",
          "text": [
            "6.52 s ± 1.2 s per loop (mean ± std. dev. of 5 runs, 1 loop each)\n"
          ]
        }
      ]
    },
    {
      "cell_type": "code",
      "source": [
        "%%timeit -n 1 -r 5\n",
        "final_model.fit(X, y)"
      ],
      "metadata": {
        "colab": {
          "base_uri": "https://localhost:8080/"
        },
        "id": "FwqaWTDHPa_V",
        "outputId": "7a981b92-a93a-4596-9fb3-2f5ba3cb8c63"
      },
      "execution_count": 28,
      "outputs": [
        {
          "output_type": "stream",
          "name": "stdout",
          "text": [
            "44.2 s ± 4.52 s per loop (mean ± std. dev. of 5 runs, 1 loop each)\n"
          ]
        }
      ]
    },
    {
      "cell_type": "code",
      "source": [
        "default_pred = default_model.predict(X_test)\n",
        "final_pred = final_model.predict(X_test)\n",
        "\n",
        "print('Default model performance on the test set: MAE = %0.4f.' % mae(y_test, default_pred))\n",
        "print('Final model performance on the test set:   MAE = %0.4f.' % mae(y_test, final_pred))"
      ],
      "metadata": {
        "colab": {
          "base_uri": "https://localhost:8080/"
        },
        "id": "mA483xviQaI0",
        "outputId": "6b0663b8-e9c5-4ddb-81ad-3b7ef1820caf"
      },
      "execution_count": 29,
      "outputs": [
        {
          "output_type": "stream",
          "name": "stdout",
          "text": [
            "Default model performance on the test set: MAE = 66521.0550.\n",
            "Final model performance on the test set:   MAE = 64299.9828.\n"
          ]
        }
      ]
    },
    {
      "cell_type": "markdown",
      "source": [
        "Наша модель лучше на 3%, но в 7 раз медленнее. Увеличение времени не так важно, так что останемся с финальной моделью."
      ],
      "metadata": {
        "id": "OmdxVyA5X3Hp"
      }
    },
    {
      "cell_type": "code",
      "source": [
        "# Density plot of the final predictions and the test values\n",
        "sns.kdeplot(final_pred, label = 'Predictions')\n",
        "sns.kdeplot(y_test, label = 'Values')\n",
        "\n",
        "# Label the plot\n",
        "plt.legend()\n",
        "plt.xlabel('Price'); plt.ylabel('Density');\n",
        "plt.title('Test Values and Predictions');"
      ],
      "metadata": {
        "colab": {
          "base_uri": "https://localhost:8080/",
          "height": 782
        },
        "id": "FXEaH-hpUsis",
        "outputId": "6e2bdffb-7353-48ff-bebe-db8cd816f249"
      },
      "execution_count": 31,
      "outputs": [
        {
          "output_type": "display_data",
          "data": {
            "text/plain": [
              "<Figure size 800x800 with 1 Axes>"
            ],
            "image/png": "[encoded data removed]"
          },
          "metadata": {}
        }
      ]
    },
    {
      "cell_type": "markdown",
      "source": [
        "График показывает, что модель довольно успешно предсказывает цену."
      ],
      "metadata": {
        "id": "i0g2AOKaYlXu"
      }
    },
    {
      "cell_type": "code",
      "source": [
        "figsize = (6, 6)\n",
        "\n",
        "# Calculate the residuals\n",
        "residuals = final_pred - y_test\n",
        "\n",
        "# Plot the residuals in a histogram\n",
        "plt.hist(residuals, color = 'red', bins = 20,\n",
        "         edgecolor = 'black')\n",
        "plt.xlim([-1000000, 1000000])\n",
        "plt.xlabel('Error'); plt.ylabel('Count')\n",
        "plt.title('Distribution of Residuals');"
      ],
      "metadata": {
        "colab": {
          "base_uri": "https://localhost:8080/",
          "height": 782
        },
        "id": "JXv2HmxUUu_m",
        "outputId": "508afff7-37e0-4f97-c70c-de13fd20637a"
      },
      "execution_count": 32,
      "outputs": [
        {
          "output_type": "display_data",
          "data": {
            "text/plain": [
              "<Figure size 800x800 with 1 Axes>"
            ],
            "image/png": "[encoded data removed]"
          },
          "metadata": {}
        }
      ]
    }
  ]
}